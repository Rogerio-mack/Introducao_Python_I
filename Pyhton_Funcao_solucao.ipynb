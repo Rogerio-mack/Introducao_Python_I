{
  "nbformat": 4,
  "nbformat_minor": 0,
  "metadata": {
    "kernelspec": {
      "display_name": "Python 3",
      "language": "python",
      "name": "python3"
    },
    "language_info": {
      "codemirror_mode": {
        "name": "ipython",
        "version": 3
      },
      "file_extension": ".py",
      "mimetype": "text/x-python",
      "name": "python",
      "nbconvert_exporter": "python",
      "pygments_lexer": "ipython3",
      "version": "3.7.6"
    },
    "colab": {
      "name": "Pyhton_Funcao_solucao.ipynb",
      "provenance": [],
      "collapsed_sections": []
    }
  },
  "cells": [
    {
      "cell_type": "markdown",
      "metadata": {
        "id": "J0YsSuRJkrSV"
      },
      "source": [
        "<head>\n",
        "  <meta name=\"author\" content=\"Rogério de Oliveira\">\n",
        "  <meta institution=\"author\" content=\"Universidade Presbiteriana Mackenzie\">\n",
        "</head>\n",
        "\n",
        "<img src=\"http://meusite.mackenzie.br/rogerio/mackenzie_logo/UPM.2_horizontal_vermelho.jpg\" width=300, align=\"right\"></a>\n",
        "<!-- <h1 align=left><font size = 6, style=\"color:rgb(200,0,0)\"> optional title </font></h1> -->"
      ]
    },
    {
      "cell_type": "markdown",
      "metadata": {
        "id": "guaxIf-ikrSX"
      },
      "source": [
        "# **Python Funções**\n",
        "--- "
      ]
    },
    {
      "cell_type": "markdown",
      "metadata": {
        "id": "LC-Agt8Bubwy"
      },
      "source": [
        "# **Funções**\n",
        "\n",
        "Funções são úteis por vários motivos. \n",
        "\n",
        "* Permitem organizar melhor o seu código\n",
        "* Permitem modularizar e reutilizar código\n",
        "* Encapsulam, isolam e portanto protegem partes e variáveis do seu programa\n",
        "* Permitem liberar memória\n",
        "* Permite distribuir e paralelizar o trabalho de codificação (veja *mocking code*)\n",
        "\n",
        "Portanto: **Use Funções!!!** ;-)  "
      ]
    },
    {
      "cell_type": "markdown",
      "metadata": {
        "id": "UjUrAfaofRF1"
      },
      "source": [
        "# Crie uma Função"
      ]
    },
    {
      "cell_type": "code",
      "metadata": {
        "id": "6u1VYAzpEFcJ"
      },
      "source": [
        "def my_function():\n",
        "  print(\"Hello\")"
      ],
      "execution_count": null,
      "outputs": []
    },
    {
      "cell_type": "markdown",
      "metadata": {
        "id": "9CxliYTMWeCV"
      },
      "source": [
        "# Chame a Função"
      ]
    },
    {
      "cell_type": "code",
      "metadata": {
        "id": "w0Ewp2W-T5CL",
        "colab": {
          "base_uri": "https://localhost:8080/"
        },
        "outputId": "b63d548c-2a05-49bc-feda-db6e18d73f6c"
      },
      "source": [
        "my_function()"
      ],
      "execution_count": null,
      "outputs": [
        {
          "output_type": "stream",
          "text": [
            "Hello\n"
          ],
          "name": "stdout"
        }
      ]
    },
    {
      "cell_type": "markdown",
      "metadata": {
        "id": "mHqWqXpPWlkZ"
      },
      "source": [
        "# Argumentos"
      ]
    },
    {
      "cell_type": "code",
      "metadata": {
        "id": "R2rmY21tUGda",
        "colab": {
          "base_uri": "https://localhost:8080/"
        },
        "outputId": "0ccdddb2-0ee7-47cb-e6a8-89e62bb6bd2f"
      },
      "source": [
        "def bomdia(nome):\n",
        "  print('Bom dia ' + nome)\n",
        "\n",
        "bomdia('Anna')\n",
        "bomdia('Daniel')  "
      ],
      "execution_count": null,
      "outputs": [
        {
          "output_type": "stream",
          "text": [
            "Bom dia Anna\n",
            "Bom dia Daniel\n"
          ],
          "name": "stdout"
        }
      ]
    },
    {
      "cell_type": "code",
      "metadata": {
        "id": "mHrnxW_0XQbC",
        "colab": {
          "base_uri": "https://localhost:8080/"
        },
        "outputId": "470d8a87-3cdd-4964-a7fd-75359e1f11de"
      },
      "source": [
        "def add(x,y):\n",
        "  print(x+y)\n",
        "\n",
        "add(1,7)"
      ],
      "execution_count": null,
      "outputs": [
        {
          "output_type": "stream",
          "text": [
            "8\n"
          ],
          "name": "stdout"
        }
      ]
    },
    {
      "cell_type": "code",
      "metadata": {
        "id": "j35FlyKCXdZR",
        "colab": {
          "base_uri": "https://localhost:8080/"
        },
        "outputId": "0f431259-05a0-44b0-fd3d-52fe0f6d7e0f"
      },
      "source": [
        "def add(x,y):\n",
        "  valor = x + y\n",
        "  print(valor)\n",
        "\n",
        "add(1,7)"
      ],
      "execution_count": null,
      "outputs": [
        {
          "output_type": "stream",
          "text": [
            "8\n"
          ],
          "name": "stdout"
        }
      ]
    },
    {
      "cell_type": "code",
      "metadata": {
        "id": "PhRSA4TmXnse",
        "colab": {
          "base_uri": "https://localhost:8080/"
        },
        "outputId": "c21c5e4b-3d33-4009-c0b1-877c50cf83e8"
      },
      "source": [
        "def add(x,y):\n",
        "  valor = x + y\n",
        "  return valor\n",
        "\n",
        "add(1,7)"
      ],
      "execution_count": null,
      "outputs": [
        {
          "output_type": "execute_result",
          "data": {
            "text/plain": [
              "8"
            ]
          },
          "metadata": {
            "tags": []
          },
          "execution_count": 6
        }
      ]
    },
    {
      "cell_type": "code",
      "metadata": {
        "id": "02aRoBr-XuY7",
        "colab": {
          "base_uri": "https://localhost:8080/"
        },
        "outputId": "89a747a5-ff59-44ef-8bae-8aad1ed948dc"
      },
      "source": [
        "def add(x,y):\n",
        "  valor = x + y\n",
        "  return valor\n",
        "\n",
        "valor = add(1,7)\n",
        "print(valor)"
      ],
      "execution_count": null,
      "outputs": [
        {
          "output_type": "stream",
          "text": [
            "8\n"
          ],
          "name": "stdout"
        }
      ]
    },
    {
      "cell_type": "code",
      "metadata": {
        "id": "HmEYa5PdX4X2",
        "colab": {
          "base_uri": "https://localhost:8080/"
        },
        "outputId": "0a0e7ed5-3028-4fee-ac9e-a3c214d17a3e"
      },
      "source": [
        "def add(x,y):\n",
        "  return x+y\n",
        "\n",
        "valor = add(1,7)\n",
        "print(valor)"
      ],
      "execution_count": null,
      "outputs": [
        {
          "output_type": "stream",
          "text": [
            "8\n"
          ],
          "name": "stdout"
        }
      ]
    },
    {
      "cell_type": "markdown",
      "metadata": {
        "id": "NzUlvKCuYBtQ"
      },
      "source": [
        "# Escopo das variáveis"
      ]
    },
    {
      "cell_type": "code",
      "metadata": {
        "id": "a7stF7gQX_UL"
      },
      "source": [
        "def add(x,y):\n",
        "  valor = x + y\n",
        "  return valor\n",
        "\n",
        "print(x) # erro!\n",
        "\n",
        "valor = add(1,7)\n",
        "print(valor)"
      ],
      "execution_count": null,
      "outputs": []
    },
    {
      "cell_type": "code",
      "metadata": {
        "id": "J1MHk0iIUR8f",
        "colab": {
          "base_uri": "https://localhost:8080/"
        },
        "outputId": "8cf810bf-dec4-45b4-a621-31cd978ddc77"
      },
      "source": [
        "def add(x,y):\n",
        "  valor = x + y\n",
        "  x = 0\n",
        "  y = 0\n",
        "  return valor\n",
        "\n",
        "x = 1\n",
        "y = 7\n",
        "\n",
        "valor = add(1,7)\n",
        "print(x, ' + ',  y, ' = ', valor)"
      ],
      "execution_count": null,
      "outputs": [
        {
          "output_type": "stream",
          "text": [
            "1  +  7  =  8\n"
          ],
          "name": "stdout"
        }
      ]
    },
    {
      "cell_type": "markdown",
      "metadata": {
        "id": "sKbWxmt6Y6x1"
      },
      "source": [
        "# Keywords arguments"
      ]
    },
    {
      "cell_type": "code",
      "metadata": {
        "id": "v5QikJeJY5y7"
      },
      "source": [
        "def add(x,y):\n",
        "  return x + y\n",
        "\n",
        "print(add(1,7))  \n",
        "\n",
        "print(add(y=1,x=7))\n",
        "\n",
        "print(add(1)) # erro"
      ],
      "execution_count": null,
      "outputs": []
    },
    {
      "cell_type": "markdown",
      "metadata": {
        "id": "IkvMmrcice4B"
      },
      "source": [
        "# Valor Padrão **DEFAULT** "
      ]
    },
    {
      "cell_type": "code",
      "metadata": {
        "id": "l-10zZ4xZUJ2",
        "colab": {
          "base_uri": "https://localhost:8080/"
        },
        "outputId": "215f63c8-82ab-48f1-acd4-9fc430230773"
      },
      "source": [
        "def add(x=0,y=0):\n",
        "  return x + y\n",
        "\n",
        "print(add(y=1,x=7))  \n",
        "print( add() )"
      ],
      "execution_count": null,
      "outputs": [
        {
          "output_type": "stream",
          "text": [
            "8\n",
            "0\n"
          ],
          "name": "stdout"
        }
      ]
    },
    {
      "cell_type": "markdown",
      "metadata": {
        "id": "Nmx3XTr1Zy9D"
      },
      "source": [
        "# Argumentos arbitrários\n"
      ]
    },
    {
      "cell_type": "code",
      "metadata": {
        "id": "yjaZBzPkZyEd",
        "colab": {
          "base_uri": "https://localhost:8080/"
        },
        "outputId": "17cb075f-5509-435a-bc23-4c5ac70ab319"
      },
      "source": [
        "def add(*numero):\n",
        "  soma = 0\n",
        "  for i in range(len(numero)):\n",
        "    soma = soma + numero[i]\n",
        "\n",
        "  return soma\n",
        "\n",
        "print( add(1,2,3) )    \n"
      ],
      "execution_count": null,
      "outputs": [
        {
          "output_type": "stream",
          "text": [
            "6\n"
          ],
          "name": "stdout"
        }
      ]
    },
    {
      "cell_type": "code",
      "metadata": {
        "id": "INpTDqnqaXes",
        "colab": {
          "base_uri": "https://localhost:8080/"
        },
        "outputId": "495801d0-ebc7-4e21-b79a-3b89960c6db6"
      },
      "source": [
        "def add(*numero):\n",
        "  soma = 0\n",
        "  for n in numero:\n",
        "    soma = soma + n\n",
        "\n",
        "  return soma\n",
        "\n",
        "print( add(1,2,3) )   "
      ],
      "execution_count": null,
      "outputs": [
        {
          "output_type": "stream",
          "text": [
            "6\n"
          ],
          "name": "stdout"
        }
      ]
    },
    {
      "cell_type": "markdown",
      "metadata": {
        "id": "8LSUKoglatr_"
      },
      "source": [
        "# Argumentos com chaves (keywords) arbitrárias (*avançado*)"
      ]
    },
    {
      "cell_type": "code",
      "metadata": {
        "id": "X2h1fxYCasq6",
        "colab": {
          "base_uri": "https://localhost:8080/"
        },
        "outputId": "f60911ac-0dc2-439b-c6c2-c097180c99a0"
      },
      "source": [
        "def print_segundo(**keylist):\n",
        "  if 'segundo' in keylist.keys():\n",
        "    print('Valor do segundo: ', keylist['segundo'])\n",
        "  else:\n",
        "    print('Parâmetro \\'segundo\\' não informado')  \n",
        "\n",
        "  return \n",
        "\n",
        "print_segundo(primeiro=1, segundo=7)   \n",
        "print_segundo(primeiro=1, terceido=7)   \n",
        "  "
      ],
      "execution_count": null,
      "outputs": [
        {
          "output_type": "stream",
          "text": [
            "Valor do segundo:  7\n",
            "Parâmetro 'segundo' não informado\n"
          ],
          "name": "stdout"
        }
      ]
    },
    {
      "cell_type": "markdown",
      "metadata": {
        "id": "d3URVHPEdCwH"
      },
      "source": [
        "# Recursão (*avançado*)"
      ]
    },
    {
      "cell_type": "code",
      "metadata": {
        "id": "AwGJ_pW5dB_I",
        "colab": {
          "base_uri": "https://localhost:8080/"
        },
        "outputId": "c49c2c8d-e5fa-4a24-a8ba-9378d377dc06"
      },
      "source": [
        "def fibonacci(k):\n",
        "  if(k > 0):\n",
        "    result = k + fibonacci(k - 1)\n",
        "    print(result)\n",
        "  else:\n",
        "    result = 0\n",
        "  return result\n",
        "\n",
        "fibonacci(10)"
      ],
      "execution_count": null,
      "outputs": [
        {
          "output_type": "stream",
          "text": [
            "1\n",
            "3\n",
            "6\n",
            "10\n",
            "15\n",
            "21\n",
            "28\n",
            "36\n",
            "45\n",
            "55\n"
          ],
          "name": "stdout"
        },
        {
          "output_type": "execute_result",
          "data": {
            "text/plain": [
              "55"
            ]
          },
          "metadata": {
            "tags": []
          },
          "execution_count": 30
        }
      ]
    },
    {
      "cell_type": "markdown",
      "metadata": {
        "id": "vwLYYpp1tyIs"
      },
      "source": [
        "# Exercício 1\n",
        "\n",
        "Faça um programa, utilizando funções, que receba três números inteiros e positivos, e que forneça a soma desses três números.\n",
        "\n",
        "Para este exercício crie três funções:\n",
        "\n",
        "> `entrada()` retorna um número digitado (fazer a verificação se é positivo);\n",
        "\n",
        "> `calculaSoma(a, b, c)` recebe 3 números inteiros e positivos e retorna a soma deles;\n",
        "\n",
        "> `main()` chamada das funções criadas (chama 3 vezes a entrada, sendo uma para cada número e a função para somar) e depois mostre o resultado.\n",
        " \n",
        "\n",
        " \n",
        "\n"
      ]
    },
    {
      "cell_type": "code",
      "metadata": {
        "id": "tSqRgExSP-9l"
      },
      "source": [
        "# Seu código\n",
        "\n",
        "#função que retorna o número digitado\n",
        "def entrada():\n",
        "    x = int (input (\"Digite o número: \"))\n",
        "    while x <= 0:\n",
        "       x = int(input(\"\\nVocê deverá digitar um número maior ou igual a 0: \")) \n",
        "    return x\n",
        "\n",
        "\n",
        "#função que faz a soma de 3 números positivos\n",
        "def calculaSoma(a,b,c):\n",
        "    return (a + b + c)\n",
        "\n",
        "\n",
        "#função principal\n",
        "def main():\n",
        "    a = entrada()\n",
        "    b = entrada()\n",
        "    c = entrada()\n",
        "    print (\"Soma =\", calculaSoma(a,b,c))\n",
        "\n",
        "\n",
        "#chamada à função principal\n",
        "main()\n",
        "\n"
      ],
      "execution_count": null,
      "outputs": []
    },
    {
      "cell_type": "markdown",
      "metadata": {
        "id": "EyYTSkOISftg"
      },
      "source": [
        "# Exercício 2\n",
        "\n",
        "Faça um programa, utilizando funções, que terá um número inteiro como entrada  e a função retornará o caractere \"P\", se o número for positivo (> 0),  \"N\", se o número for negativo (< 0) e \"Zero\" se o número for igual a zero.\n",
        "\n",
        "Para este exercício crie duas funções:\n",
        "\n",
        "> `verifica(a)` recebe o número e retorna \"P\" (> 0), \"N\" (< 0) ou \"Zero\" (igual a 0).\n",
        "\n",
        "> `main()` digita um número, faz a chamada à função verifica e depois mostra o resultado.\n",
        " \n",
        "\n",
        " \n",
        "\n"
      ]
    },
    {
      "cell_type": "code",
      "metadata": {
        "id": "E10CL920Sfti"
      },
      "source": [
        "# Seu código\n",
        "\n",
        "#função que verifica se o número é positivo ou negativo\n",
        "def verifica(a):\n",
        "    if a > 0 :\n",
        "        return \"P\"\n",
        "    elif a < 0:\n",
        "        return \"N\"\n",
        "    else:\n",
        "        return \"Zero\"\n",
        "\n",
        "\n",
        "#função principal\n",
        "def main():\n",
        "    a = int(input(\"Digite um número: \"))\n",
        "    print(verifica(a))\n",
        "\n",
        "\n",
        "#chamada à função principal\n",
        "main()\n"
      ],
      "execution_count": null,
      "outputs": []
    },
    {
      "cell_type": "markdown",
      "metadata": {
        "id": "nchrHYcWSf_W"
      },
      "source": [
        "# Exercício 3\n",
        "\n",
        "Faça um programa, utilizando funções, que retorne o valor de um produto já com o imposto. Serão utilizados dois parâmetros formais: taxaImposto, que é a quantia de imposto sobre vendas expressa em porcentagem e custo, que é o custo de um item antes do imposto.\n",
        "\n",
        "Para este exercício crie três funções:\n",
        "\n",
        "> `entrada()` serve para retornar tanto  o custo do produto quanto a porcentagem do imposto;\n",
        "\n",
        "> `somaImposto(porc, custo)` recebe o valor da porcentagem do imposto e o custo do produto. Retorna o novo custo do produto já com o imposto.\n",
        "\n",
        "> `main()` chamada das funções criadas (chama 2 vezes a entrada e 1 vez a função somaImposto) e depois mostre o custo com o imposto.\n",
        " \n",
        "\n",
        " \n",
        "\n"
      ]
    },
    {
      "cell_type": "code",
      "metadata": {
        "id": "If2EhYj5Sf_X"
      },
      "source": [
        "# Seu código\n",
        "\n",
        "#função que retorna o número digitado\n",
        "def entrada(mensagem):\n",
        "    x = float(input(mensagem))\n",
        "    return x\n",
        "\n",
        "\n",
        "#função que calcula o valor com imposto\n",
        "def somaImposto(porc, custo):\n",
        "    novo_custo = custo + (custo*porc/100)\n",
        "    return novo_custo\n",
        "\n",
        "\n",
        "#função principal\n",
        "def main():\n",
        "    custo = entrada(\"Custo do produto: \")\n",
        "    porc = entrada(\"Porcentagem do imposto: \")\n",
        "    custo = somaImposto(porc,custo)\n",
        "    print(\"Preço com imposto: R$ %.2f\" %custo)\n",
        "\n",
        "\n",
        "#chamada à função principal\n",
        "main()"
      ],
      "execution_count": null,
      "outputs": []
    },
    {
      "cell_type": "markdown",
      "metadata": {
        "id": "aM5lfVu8SgOc"
      },
      "source": [
        "# Exercício 4\n",
        "Considere o problema de conversão de temperatura:\n",
        "\n",
        "$$ C = (F - 32) / 1.8 $$\n",
        "\n",
        "$$ F = 1.8 C + 32 $$\n",
        "\n",
        " \n",
        "\n",
        "Escreva um programa modularizado que permite ao usuário converter uma faixa de temperatura de Fahrenheit para Celsius (para isso o usuário deve digitar F) e de Celsius para Fahrenheit (neste caso o usuário deve digitar C).\n",
        "\n",
        "Para a construção do programa você deve escrever as seguintes funções:\n",
        "\n",
        "> `exibeMsg()` apenas exibe uma mensagem para ao usuário dizendo o que o programa faz e informando como deve ser a entrada de dados. Não tem parâmetro de entrada e não tem retorno;\n",
        "\n",
        "> `verificaOpcao()` a função não tem parâmetro de entrada e retorna “F” ou “C” (fazer a validação para que o usuário só digite F ou C);\n",
        "\n",
        "> `verificaIntervalo()` a função não tem parâmetro de entrada e retorna os valores inicial e final do intervalo (fazer a validação para que o valor inicial seja menor que o valor final);\n",
        "\n",
        "> `exibeFahrenheitToCelsius(inicio, fim)` essa função recebe como entrada o intervalo de temperatura a ser exibido, faz a conversão de temperatura e mostra a temperatura convertida para Celsius;\n",
        "\n",
        "> `exibeCelsiusToFahrenheit(inicio, fim)` essa função recebe como entrada o intervalo de temperatura a ser exibido, faz a conversão de temperatura e mostra a temperatura convertida para Fahrenheit"
      ]
    },
    {
      "cell_type": "code",
      "metadata": {
        "id": "EWXOXa2ESgOf",
        "colab": {
          "base_uri": "https://localhost:8080/"
        },
        "outputId": "752e72f4-47f5-4077-e96a-4449d448bb44"
      },
      "source": [
        "# Seu código\n",
        "\n",
        "def exibeMsg():\n",
        "    print (\"\\nEste programa permite ao usuário converter as seguintes faixas de temperatura:\"\n",
        "           \"\\n    - Fahrenheit para Celsius (para isso o usuário deve digitar F)\"\n",
        "           \"\\n    - Celsius para Fahrenheit (para isso o usuário deve digitar C)\")\n",
        "\n",
        "def verificaOpcao():\n",
        "    opcao = input(\"\\nDigite: \\nF - Fahrenheit para Celsius\\nC - Celsius para Fahrenheit\\n\\nQual a sua escolha: F ou C? \")\n",
        "    while (opcao != \"F\" and opcao != \"C\"):\n",
        "        opcao = input(\"\\nVocê deverá digitar somente F ou C\\nQual a sua escolha: F ou C? \")\n",
        "    return opcao\n",
        "\n",
        "def verificaIntervalo():\n",
        "    inicio = int(input (\"Início do intervalo: \"))\n",
        "    fim = int (input(\"Fim do intervalo: \"))\n",
        "\n",
        "    while (inicio >= fim):\n",
        "        print(\"\\nValores incorretos! O valor inicial deve ser menor que o valor final. Por favor, digite novamente.\")\n",
        "        inicio = int(input (\"Início do intervalo: \"))\n",
        "        fim = int (input(\"Fim do intervalo: \"))\n",
        "    return inicio,fim\n",
        "\n",
        "\n",
        "\n",
        "def exibeFahrenheitToCelsius(inicio,fim):\n",
        "    for F in range (inicio,fim+1):\n",
        "        C = (F - 32) / 1.8\n",
        "        print (\"%.1fºF = %.1fºC\" %(F,C))\n",
        "        \n",
        "def exibeCelsiusToFahrenheit(inicio, fim):\n",
        "    for C in range (inicio,fim+1):\n",
        "        F = C*1.8 + 32\n",
        "        print (\"%.1fºC = %.1fºF\" % (C,F))\n",
        "        \n",
        "        \n",
        "def main():\n",
        "    exibeMsg()\n",
        "    op = verificaOpcao()\n",
        "    (inicial,final) = verificaIntervalo()\n",
        "\n",
        "    if op == \"F\":\n",
        "        print(\"\\n\")\n",
        "        exibeFahrenheitToCelsius(inicial,final)\n",
        "    else:\n",
        "        print(\"\\n\")\n",
        "        exibeCelsiusToFahrenheit(inicial,final)\n",
        "        \n",
        "\n",
        "main()\n"
      ],
      "execution_count": null,
      "outputs": [
        {
          "output_type": "stream",
          "text": [
            "\n",
            "Este programa permite ao usuário converter as seguintes faixas de temperatura:\n",
            "    - Fahrenheit para Celsius (para isso o usuário deve digitar F)\n",
            "    - Celsius para Fahrenheit (para isso o usuário deve digitar C)\n",
            "\n",
            "Digite: \n",
            "F - Fahrenheit para Celsius\n",
            "C - Celsius para Fahrenheit\n",
            "\n",
            "Qual a sua escolha: F ou C? C\n",
            "Início do intervalo: 10\n",
            "Fim do intervalo: 50\n",
            "\n",
            "\n",
            "10.0ºC = 50.0ºF\n",
            "11.0ºC = 51.8ºF\n",
            "12.0ºC = 53.6ºF\n",
            "13.0ºC = 55.4ºF\n",
            "14.0ºC = 57.2ºF\n",
            "15.0ºC = 59.0ºF\n",
            "16.0ºC = 60.8ºF\n",
            "17.0ºC = 62.6ºF\n",
            "18.0ºC = 64.4ºF\n",
            "19.0ºC = 66.2ºF\n",
            "20.0ºC = 68.0ºF\n",
            "21.0ºC = 69.8ºF\n",
            "22.0ºC = 71.6ºF\n",
            "23.0ºC = 73.4ºF\n",
            "24.0ºC = 75.2ºF\n",
            "25.0ºC = 77.0ºF\n",
            "26.0ºC = 78.8ºF\n",
            "27.0ºC = 80.6ºF\n",
            "28.0ºC = 82.4ºF\n",
            "29.0ºC = 84.2ºF\n",
            "30.0ºC = 86.0ºF\n",
            "31.0ºC = 87.8ºF\n",
            "32.0ºC = 89.6ºF\n",
            "33.0ºC = 91.4ºF\n",
            "34.0ºC = 93.2ºF\n",
            "35.0ºC = 95.0ºF\n",
            "36.0ºC = 96.8ºF\n",
            "37.0ºC = 98.6ºF\n",
            "38.0ºC = 100.4ºF\n",
            "39.0ºC = 102.2ºF\n",
            "40.0ºC = 104.0ºF\n",
            "41.0ºC = 105.8ºF\n",
            "42.0ºC = 107.6ºF\n",
            "43.0ºC = 109.4ºF\n",
            "44.0ºC = 111.2ºF\n",
            "45.0ºC = 113.0ºF\n",
            "46.0ºC = 114.8ºF\n",
            "47.0ºC = 116.6ºF\n",
            "48.0ºC = 118.4ºF\n",
            "49.0ºC = 120.2ºF\n",
            "50.0ºC = 122.0ºF\n"
          ],
          "name": "stdout"
        }
      ]
    }
  ]
}