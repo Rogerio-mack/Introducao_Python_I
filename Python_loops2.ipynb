{
  "nbformat": 4,
  "nbformat_minor": 0,
  "metadata": {
    "kernelspec": {
      "display_name": "Python 3",
      "language": "python",
      "name": "python3"
    },
    "language_info": {
      "codemirror_mode": {
        "name": "ipython",
        "version": 3
      },
      "file_extension": ".py",
      "mimetype": "text/x-python",
      "name": "python",
      "nbconvert_exporter": "python",
      "pygments_lexer": "ipython3",
      "version": "3.7.6"
    },
    "colab": {
      "name": "Python_loops2.ipynb",
      "provenance": [],
      "collapsed_sections": []
    }
  },
  "cells": [
    {
      "cell_type": "markdown",
      "metadata": {
        "id": "J0YsSuRJkrSV"
      },
      "source": [
        "<head>\n",
        "  <meta name=\"author\" content=\"Rogério de Oliveira\">\n",
        "  <meta institution=\"author\" content=\"Universidade Presbiteriana Mackenzie\">\n",
        "</head>\n",
        "\n",
        "<img src=\"http://meusite.mackenzie.br/rogerio/mackenzie_logo/UPM.2_horizontal_vermelho.jpg\" width=300, align=\"right\"></a>\n",
        "<!-- <h1 align=left><font size = 6, style=\"color:rgb(200,0,0)\"> optional title </font></h1> -->"
      ]
    },
    {
      "cell_type": "markdown",
      "metadata": {
        "id": "guaxIf-ikrSX"
      },
      "source": [
        "# **Python Loops: FOR**\n",
        "---"
      ]
    },
    {
      "cell_type": "markdown",
      "metadata": {
        "id": "LC-Agt8Bubwy"
      },
      "source": [
        "# **While** e **For** Loops\n",
        "\n",
        "Instruções `while` e `for` permitem implementar *laços* de execução nos programas, os chamados *loops* \\*. São blocos de instruções que se repetem até satisfazer alguma condição com chegar a um determinado valor ou índice.\n",
        "\n",
        "Os *loops* são muito úteis para codificar situações repetitivas sem a necessidade de extensas linhas de código que se repetem.\n",
        "\n",
        "\\* *não confunda, às vezes também empregamos o têrmo 'loop' para quando um programa, geralmente por erro, 'não para'.*\n",
        "\n",
        "\n",
        "\n"
      ]
    },
    {
      "cell_type": "markdown",
      "metadata": {
        "id": "UjUrAfaofRF1"
      },
      "source": [
        "# For Range\n",
        "\n",
        "`range(< start >, < limit >, < step >)` "
      ]
    },
    {
      "cell_type": "code",
      "metadata": {
        "id": "6u1VYAzpEFcJ",
        "colab": {
          "base_uri": "https://localhost:8080/",
          "height": 123
        },
        "outputId": "57670baa-f580-4214-b8af-720ac6e38567"
      },
      "source": [
        "for x in range(6):\n",
        "  print(x)"
      ],
      "execution_count": null,
      "outputs": [
        {
          "output_type": "stream",
          "text": [
            "0\n",
            "1\n",
            "2\n",
            "3\n",
            "4\n",
            "5\n"
          ],
          "name": "stdout"
        }
      ]
    },
    {
      "cell_type": "code",
      "metadata": {
        "id": "w0Ewp2W-T5CL",
        "colab": {
          "base_uri": "https://localhost:8080/",
          "height": 141
        },
        "outputId": "847f45d7-46e7-4c69-8bb2-f1a4e97295ac"
      },
      "source": [
        "for x in range(6):\n",
        "  print(x)\n",
        "else:\n",
        "  print(\"Depois de 6 terminou!\")"
      ],
      "execution_count": null,
      "outputs": [
        {
          "output_type": "stream",
          "text": [
            "0\n",
            "1\n",
            "2\n",
            "3\n",
            "4\n",
            "5\n",
            "Depois de 6 terminou!\n"
          ],
          "name": "stdout"
        }
      ]
    },
    {
      "cell_type": "code",
      "metadata": {
        "id": "R2rmY21tUGda",
        "colab": {
          "base_uri": "https://localhost:8080/",
          "height": 123
        },
        "outputId": "cf5e3861-6331-40cc-80ed-f2248fea3fd6"
      },
      "source": [
        "for x in range(1,6):\n",
        "  print(x)\n",
        "else:\n",
        "  print(\"Depois de 5 terminou!\")"
      ],
      "execution_count": null,
      "outputs": [
        {
          "output_type": "stream",
          "text": [
            "1\n",
            "2\n",
            "3\n",
            "4\n",
            "5\n",
            "Depois de 5 terminou!\n"
          ],
          "name": "stdout"
        }
      ]
    },
    {
      "cell_type": "code",
      "metadata": {
        "id": "J1MHk0iIUR8f",
        "colab": {
          "base_uri": "https://localhost:8080/",
          "height": 90
        },
        "outputId": "6e67ccc5-197b-42d6-c0a5-67d8daf99395"
      },
      "source": [
        "for x in range(0,6,2):\n",
        "  print(x)\n",
        "else:\n",
        "  print(\"Depois de 3 terminou!\")"
      ],
      "execution_count": null,
      "outputs": [
        {
          "output_type": "stream",
          "text": [
            "0\n",
            "2\n",
            "4\n",
            "Depois de 3 terminou!\n"
          ],
          "name": "stdout"
        }
      ]
    },
    {
      "cell_type": "code",
      "metadata": {
        "id": "42UyF2I1VeKE",
        "colab": {
          "base_uri": "https://localhost:8080/",
          "height": 199
        },
        "outputId": "f2792d4b-2795-41c8-e467-9b4a745c2afd"
      },
      "source": [
        "start = int(input('Start: '))\n",
        "limit = int(input('Limit: '))\n",
        "step = int(input('Step: '))\n",
        "\n",
        "for i in range(start,limit,step):\n",
        "  print(i)\n",
        "print('...done')\n"
      ],
      "execution_count": null,
      "outputs": [
        {
          "output_type": "stream",
          "text": [
            "Start: 0\n",
            "Limit: 6\n",
            "Step: 1\n",
            "0\n",
            "1\n",
            "2\n",
            "3\n",
            "4\n",
            "5\n",
            "...done\n"
          ],
          "name": "stdout"
        }
      ]
    },
    {
      "cell_type": "code",
      "metadata": {
        "id": "f18EBcsJHhb4"
      },
      "source": [
        "start = int(input('Start: '))\n",
        "limit = int(input('Limit: '))\n",
        "step = int(input('Step: '))\n",
        "\n",
        "i = start\n",
        "while i < limit:\n",
        "  print(i)\n",
        "  i = i + step\n",
        "print('...done')"
      ],
      "execution_count": null,
      "outputs": []
    },
    {
      "cell_type": "markdown",
      "metadata": {
        "id": "sgdL0b5BVRWU"
      },
      "source": [
        "# Nested For Loops\n"
      ]
    },
    {
      "cell_type": "code",
      "metadata": {
        "id": "iMbMb3j6VVyw",
        "colab": {
          "base_uri": "https://localhost:8080/",
          "height": 181
        },
        "outputId": "fcd8cd3e-3f61-4515-e0e5-ee35e8b1f9ff"
      },
      "source": [
        "for i in range(3):\n",
        "  for j in range(3):\n",
        "    print(i,j)"
      ],
      "execution_count": null,
      "outputs": [
        {
          "output_type": "stream",
          "text": [
            "0 0\n",
            "0 1\n",
            "0 2\n",
            "1 0\n",
            "1 1\n",
            "1 2\n",
            "2 0\n",
            "2 1\n",
            "2 2\n"
          ],
          "name": "stdout"
        }
      ]
    },
    {
      "cell_type": "code",
      "metadata": {
        "id": "y1OxWQdmXB00",
        "colab": {
          "base_uri": "https://localhost:8080/",
          "height": 70
        },
        "outputId": "53ca0290-c094-496a-defc-3ed58cfc4d95"
      },
      "source": [
        "for i in range(3):\n",
        "  line = ''\n",
        "  for j in range(3):\n",
        "    line = line + str(i) + ',' + str(j) + '  '\n",
        "  print(line)    "
      ],
      "execution_count": null,
      "outputs": [
        {
          "output_type": "stream",
          "text": [
            "0,0  0,1  0,2  \n",
            "1,0  1,1  1,2  \n",
            "2,0  2,1  2,2  \n"
          ],
          "name": "stdout"
        }
      ]
    },
    {
      "cell_type": "markdown",
      "metadata": {
        "id": "B4_B_eY6XpqT"
      },
      "source": [
        "# For, Break and Continue\n",
        "\n",
        "Mas veja se você realmente precisa disso!"
      ]
    },
    {
      "cell_type": "code",
      "metadata": {
        "id": "ALt2zc49XvoM",
        "colab": {
          "base_uri": "https://localhost:8080/",
          "height": 141
        },
        "outputId": "d503d490-d35d-4855-bc06-ea9093a93163"
      },
      "source": [
        "for i in range(10):\n",
        "  print(i)  \n",
        "  if i == 6:\n",
        "    break"
      ],
      "execution_count": null,
      "outputs": [
        {
          "output_type": "stream",
          "text": [
            "0\n",
            "1\n",
            "2\n",
            "3\n",
            "4\n",
            "5\n",
            "6\n"
          ],
          "name": "stdout"
        }
      ]
    },
    {
      "cell_type": "code",
      "metadata": {
        "id": "WjKtEfFRYI8U",
        "colab": {
          "base_uri": "https://localhost:8080/",
          "height": 176
        },
        "outputId": "eb249a21-adbd-4dbc-ca36-13b8c3cc7a5d"
      },
      "source": [
        "for i in range(10):\n",
        "  if i == 6:\n",
        "    continue\n",
        "  print(i)    "
      ],
      "execution_count": null,
      "outputs": [
        {
          "output_type": "stream",
          "text": [
            "0\n",
            "1\n",
            "2\n",
            "3\n",
            "4\n",
            "5\n",
            "7\n",
            "8\n",
            "9\n"
          ],
          "name": "stdout"
        }
      ]
    },
    {
      "cell_type": "markdown",
      "metadata": {
        "id": "e68XzIyIYcnz"
      },
      "source": [
        "# For lists\n",
        "\n",
        "Um item avançado mas que adiantamos aqui... ;-)"
      ]
    },
    {
      "cell_type": "code",
      "metadata": {
        "id": "LiHnM4jQdMre",
        "colab": {
          "base_uri": "https://localhost:8080/",
          "height": 87
        },
        "outputId": "42c9fce0-b94e-4b30-e68f-0b0364bb8fe8"
      },
      "source": [
        "for i in [0,1,2,3]:\n",
        "  print('Passando aqui...', i , '-ésima vez')"
      ],
      "execution_count": null,
      "outputs": [
        {
          "output_type": "stream",
          "text": [
            "Passando aqui... 0 -ésima vez\n",
            "Passando aqui... 1 -ésima vez\n",
            "Passando aqui... 2 -ésima vez\n",
            "Passando aqui... 3 -ésima vez\n"
          ],
          "name": "stdout"
        }
      ]
    },
    {
      "cell_type": "code",
      "metadata": {
        "id": "vROiXZfEYgnX",
        "colab": {
          "base_uri": "https://localhost:8080/",
          "height": 70
        },
        "outputId": "b4449d5d-3594-4cc6-dc4b-900df919fd12"
      },
      "source": [
        "alunos = ['anna', 'beatriz', 'daniel']\n",
        "\n",
        "for aluno in alunos:\n",
        "  print(aluno)"
      ],
      "execution_count": null,
      "outputs": [
        {
          "output_type": "stream",
          "text": [
            "anna\n",
            "beatriz\n",
            "daniel\n"
          ],
          "name": "stdout"
        }
      ]
    },
    {
      "cell_type": "markdown",
      "metadata": {
        "id": "vwLYYpp1tyIs"
      },
      "source": [
        "# Exercício 1\n",
        "\n",
        "Escreva um programa que apresente todos os ímpares de 1 até 99."
      ]
    },
    {
      "cell_type": "markdown",
      "metadata": {
        "id": "kNLkJR1rQDOg"
      },
      "source": [
        "# Exercício 2\n",
        "\n",
        "Escreva um programa que apresente os n (1 <= n <= 20) primeiros termos da seguinte sequência: 1, 4, 9, 16, 25, ..."
      ]
    },
    {
      "cell_type": "markdown",
      "metadata": {
        "id": "KOGRsN3yQOQi"
      },
      "source": [
        "# Exercício 3\n",
        "\n",
        "Faça um programa que calcule e apresente o fatorial de um número inteiro e natural fornecido\n",
        "pelo usuário.\n",
        "\n",
        "Exemplo: 5! = 5 x 4 x 3 x 2 x 1 = 120.\n",
        "Por definição 0! = 1."
      ]
    },
    {
      "cell_type": "markdown",
      "metadata": {
        "id": "z8LfCQ9PQb8a"
      },
      "source": [
        "# Exercício 4\n",
        "\n",
        "A conversão de graus Fahrenheit para Celsius é obtida pela fórmula: \n",
        "\n",
        "$$𝐶 = \\frac{5}{9}(𝐹 − 32)$$\n",
        "\n",
        "Escreva um programa que calcule e apresente uma tabela de graus Celsius em função de graus Fahrenheit que variem de 50 a 150, de 1 em 1.\n"
      ]
    },
    {
      "cell_type": "markdown",
      "metadata": {
        "id": "SZ8yFKueR9ZE"
      },
      "source": [
        "# Exercício 5 RESOLVIDO\n",
        "Elabore um programa que calcule e apresente o valor de S, dado por:\n",
        "\n",
        "$$𝑆 = \\frac{1}{N} + \\frac{2}{N-1} + \\frac{3}{N-2} + ... + \\frac{N-1}{2} + N$$\n",
        "\n",
        "Sendo N fornecido pelo usuário.\n"
      ]
    },
    {
      "cell_type": "code",
      "metadata": {
        "id": "OTecxzN1R9ZL"
      },
      "source": [
        "# Seu código\n",
        "n = int(input(\"Digite o valor de n: \"))\n",
        "S = 0\n",
        "denominador = n\n",
        "\n",
        "for i in range(1,n+1,1):  \n",
        "    print(\"termo\",i ,\"=\",i,\"/\",denominador)\n",
        "    \n",
        "    S = S + i/denominador\n",
        "    denominador = denominador - 1\n",
        "\n",
        "print(\"\\nA soma é\", \"%.2f\" %S)"
      ],
      "execution_count": null,
      "outputs": []
    }
  ]
}