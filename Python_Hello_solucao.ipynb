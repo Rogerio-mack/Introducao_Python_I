{
  "nbformat": 4,
  "nbformat_minor": 0,
  "metadata": {
    "kernelspec": {
      "display_name": "Python 3",
      "language": "python",
      "name": "python3"
    },
    "language_info": {
      "codemirror_mode": {
        "name": "ipython",
        "version": 3
      },
      "file_extension": ".py",
      "mimetype": "text/x-python",
      "name": "python",
      "nbconvert_exporter": "python",
      "pygments_lexer": "ipython3",
      "version": "3.7.4"
    },
    "colab": {
      "name": "Python_Hello_solucao.ipynb",
      "provenance": [],
      "collapsed_sections": []
    }
  },
  "cells": [
    {
      "cell_type": "markdown",
      "metadata": {
        "id": "J0YsSuRJkrSV"
      },
      "source": [
        "<head>\n",
        "  <meta name=\"author\" content=\"Rogério de Oliveira\">\n",
        "  <meta institution=\"author\" content=\"Universidade Presbiteriana Mackenzie\">\n",
        "</head>\n",
        "\n",
        "<img src=\"http://meusite.mackenzie.br/rogerio/mackenzie_logo/UPM.2_horizontal_vermelho.jpg\" width=300, align=\"right\"></a>\n",
        "<!-- <h1 align=left><font size = 6, style=\"color:rgb(200,0,0)\"> optional title </font></h1> -->"
      ]
    },
    {
      "cell_type": "markdown",
      "metadata": {
        "id": "guaxIf-ikrSX"
      },
      "source": [
        "# **Pyhton Hello!**\n",
        "---"
      ]
    },
    {
      "cell_type": "markdown",
      "metadata": {
        "id": "tXJ5kQ14lEzi"
      },
      "source": [
        "Os programas aqui, exceto o último exercício resolvido, têm uma **estrutura sequencial**, isto é, as instruções executam uma em seguida da outra."
      ]
    },
    {
      "cell_type": "markdown",
      "metadata": {
        "id": "AenzTE16PJkn"
      },
      "source": [
        "# `print`\n",
        "\n",
        "A função, ou comando, `print` é empregada para exibir uma `string` ou o conteúdo de uma variável. \n"
      ]
    },
    {
      "cell_type": "code",
      "metadata": {
        "id": "rYVdD-OBzucy",
        "colab": {
          "base_uri": "https://localhost:8080/",
          "height": 51
        },
        "outputId": "8cd9f645-3cdd-4033-f128-2ce3c702427c"
      },
      "source": [
        "print('Hello Folks!') \n",
        "\n",
        "var = 10\n",
        "print(var)"
      ],
      "execution_count": null,
      "outputs": [
        {
          "output_type": "stream",
          "text": [
            "Hello Folks!\n",
            "10\n"
          ],
          "name": "stdout"
        }
      ]
    },
    {
      "cell_type": "markdown",
      "metadata": {
        "id": "eLKBzgluCl4Q"
      },
      "source": [
        "# Tipos de dados \n"
      ]
    },
    {
      "cell_type": "code",
      "metadata": {
        "id": "_1Xf8mzCCl4W"
      },
      "source": [
        "var = 10\n",
        "print(var)\n",
        "print('var')\n",
        "\n",
        "var = 'a'\n",
        "print(var)\n",
        "\n",
        "var = 'Hello'\n",
        "print(var)"
      ],
      "execution_count": null,
      "outputs": []
    },
    {
      "cell_type": "code",
      "metadata": {
        "id": "zaBcDfXkCl4e",
        "colab": {
          "base_uri": "https://localhost:8080/",
          "height": 371
        },
        "outputId": "f2ebe806-7b02-4d72-d148-b419ce62caaa"
      },
      "source": [
        "from IPython.display import IFrame\n",
        "url = \"https://pythontutor.com/iframe-embed.html#code=var%20%3D%2010%0Aprint%28var%29%0Aprint%28'var'%29%0A%0Avar%20%3D%20'a'%0Aprint%28var%29%0A%0Avar%20%3D%20'Hello'%0Aprint%28var%29%0A&codeDivHeight=400&codeDivWidth=350&cumulative=false&curInstr=0&heapPrimitives=nevernest&origin=opt-frontend.js&py=3&rawInputLstJSON=%5B%5D&textReferences=false\"\n",
        "IFrame(url, width='1000', height=350)"
      ],
      "execution_count": null,
      "outputs": [
        {
          "output_type": "execute_result",
          "data": {
            "text/html": [
              "\n",
              "        <iframe\n",
              "            width=\"1000\"\n",
              "            height=\"350\"\n",
              "            src=\"https://pythontutor.com/iframe-embed.html#code=var%20%3D%2010%0Aprint%28var%29%0Aprint%28'var'%29%0A%0Avar%20%3D%20'a'%0Aprint%28var%29%0A%0Avar%20%3D%20'Hello'%0Aprint%28var%29%0A&codeDivHeight=400&codeDivWidth=350&cumulative=false&curInstr=0&heapPrimitives=nevernest&origin=opt-frontend.js&py=3&rawInputLstJSON=%5B%5D&textReferences=false\"\n",
              "            frameborder=\"0\"\n",
              "            allowfullscreen\n",
              "        ></iframe>\n",
              "        "
            ],
            "text/plain": [
              "<IPython.lib.display.IFrame at 0x7f335dfc6d68>"
            ]
          },
          "metadata": {
            "tags": []
          },
          "execution_count": 1
        }
      ]
    },
    {
      "cell_type": "code",
      "metadata": {
        "id": "4M4wRlkCBq7R",
        "colab": {
          "base_uri": "https://localhost:8080/",
          "height": 153
        },
        "outputId": "9a24ebd4-ecce-4b9a-fdeb-252d2700b699"
      },
      "source": [
        "var = 10           ; print(var); print(type(var))\n",
        "var = 3.1416       ; print(var); print(type(var))\n",
        "var = 'x'          ; print(var); print(type(var))\n",
        "var = 'Hello'      ; print(var); print(type(var))"
      ],
      "execution_count": null,
      "outputs": [
        {
          "output_type": "stream",
          "text": [
            "10\n",
            "<class 'int'>\n",
            "3.1416\n",
            "<class 'float'>\n",
            "x\n",
            "<class 'str'>\n",
            "Hello\n",
            "<class 'str'>\n"
          ],
          "name": "stdout"
        }
      ]
    },
    {
      "cell_type": "markdown",
      "metadata": {
        "id": "7VywPg3QaJNJ"
      },
      "source": [
        "# `input`\n",
        "\n",
        "A função `input` permite a entrada de dados do usuário."
      ]
    },
    {
      "cell_type": "code",
      "metadata": {
        "id": "3Wl8mhee49rg",
        "colab": {
          "base_uri": "https://localhost:8080/",
          "height": 85
        },
        "outputId": "e8805376-07eb-45e7-9d07-35a06e27006f"
      },
      "source": [
        "nome = input('Olá! Qual o seu nome? ')\n",
        "print('Prazer em conhecer você ', nome, '!')\n",
        "\n",
        "idade = int(input('Qual a sua idade? '))\n",
        "ano_nascimento = 2020 - idade\n",
        "print('Nossa, você nasceu em... ', ano_nascimento)"
      ],
      "execution_count": null,
      "outputs": [
        {
          "output_type": "stream",
          "text": [
            "Olá! Qual o seu nome? Rogerio\n",
            "Prazer em conhecer você  Rogerio !\n",
            "Qual a sua idade? 56\n",
            "Nossa, você nasceu em...  1964\n"
          ],
          "name": "stdout"
        }
      ]
    },
    {
      "cell_type": "markdown",
      "metadata": {
        "id": "B9QM3rhd5qyF"
      },
      "source": [
        "# Exercício 1.\n",
        "\n",
        "Escreva um programa que calcula e apresenta a soma de dois números inteiros."
      ]
    },
    {
      "cell_type": "code",
      "metadata": {
        "id": "pLreaTWI6hiC",
        "colab": {
          "base_uri": "https://localhost:8080/",
          "height": 68
        },
        "outputId": "7092e319-aed6-4dac-ff7e-afd590787418"
      },
      "source": [
        "# soma de dois números inteiros\n",
        "\n",
        "n1 = int(input('Entre com o primeiro número: '))\n",
        "n2 = int(input('Entre com o primeiro número: '))\n",
        "\n",
        "soma = n1 + n2\n",
        "print('Soma = ', soma)"
      ],
      "execution_count": null,
      "outputs": [
        {
          "output_type": "stream",
          "text": [
            "Entre com o primeiro número: 3\n",
            "Entre com o primeiro número: 4\n",
            "Soma =  7\n"
          ],
          "name": "stdout"
        }
      ]
    },
    {
      "cell_type": "code",
      "metadata": {
        "id": "O9YjWZUo_Z5b",
        "colab": {
          "base_uri": "https://localhost:8080/",
          "height": 34
        },
        "outputId": "599d5a7e-13c7-4d88-ab2f-0a7a05c71898"
      },
      "source": [
        "# Ou \n",
        "print('Soma = ', n1 + n2)"
      ],
      "execution_count": null,
      "outputs": [
        {
          "output_type": "stream",
          "text": [
            "Soma =  7\n"
          ],
          "name": "stdout"
        }
      ]
    },
    {
      "cell_type": "markdown",
      "metadata": {
        "id": "CIh_7PGB7JQx"
      },
      "source": [
        "# Exercício 2.\n",
        "\n",
        "Faça um programa que, informado o tamanho do lado de um quadrado, informa a sua área e o seu perímetro. \n"
      ]
    },
    {
      "cell_type": "code",
      "metadata": {
        "id": "vJIgQhnM7H7d",
        "colab": {
          "base_uri": "https://localhost:8080/",
          "height": 68
        },
        "outputId": "478f0583-6cb0-4dae-c1ad-3fd5021847d4"
      },
      "source": [
        "# área e perímetro de um quadrado\n",
        "\n",
        "lado = float(input(\"entre com o valor do lado do quadrado: \"))\n",
        "area = lado * lado\n",
        "perimetro = 4 * lado\n",
        "\n",
        "print(\"Área do quadrado =\", area)\n",
        "print(\"Perímetro do quadrado =\", perimetro)"
      ],
      "execution_count": null,
      "outputs": [
        {
          "output_type": "stream",
          "text": [
            "entre com o valor do lado do quadrado: 5\n",
            "Área do quadrado = 25.0\n",
            "Perímetro do quadrado = 20.0\n"
          ],
          "name": "stdout"
        }
      ]
    },
    {
      "cell_type": "markdown",
      "metadata": {
        "id": "cFVPgMFM7vfN"
      },
      "source": [
        "# Exercício 3. \n",
        "\n",
        "Faça um programa que calcule e mostre o IMC (índice de massa corporal) de uma pessoa, considerando que ela irá dizer qual o seu peso e qual a sua altura (imc = peso/(altura*altura))."
      ]
    },
    {
      "cell_type": "code",
      "metadata": {
        "id": "ZBFesCb675kc"
      },
      "source": [
        "# Cálculo do imc\n",
        "\n",
        "peso = int(input (\"Qual o seu peso? \"))\n",
        "altura = float(input (\"Qual a sua altura? \"))\n",
        "\n",
        "imc = peso/(altura*altura)\n",
        "\n",
        "print (\"IMC = \",imc)"
      ],
      "execution_count": null,
      "outputs": []
    },
    {
      "cell_type": "markdown",
      "metadata": {
        "id": "VewNnbm56Saf"
      },
      "source": [
        "# * Exercício 4. (Resolvido)\n",
        "\n",
        "Faça um programa que pergunte o valor de dois números inteiros diferentes e depois mostre qual é o maior.\n"
      ]
    },
    {
      "cell_type": "code",
      "metadata": {
        "id": "_5V8hE3PAyKR",
        "colab": {
          "base_uri": "https://localhost:8080/",
          "height": 68
        },
        "outputId": "27c5b3ab-d68f-43ba-9f4a-d7d13deb07c5"
      },
      "source": [
        "# maior\n",
        "\n",
        "n1 = int(input('Entre com o primeiro número: '))\n",
        "n2 = int(input('Entre com o segundo número: '))\n",
        "\n",
        "if (n1 > n2):\n",
        "  print(n1 , ' maior que ' , n2)\n",
        "else:\n",
        "  print(n2 , ' maior que ' , n1)"
      ],
      "execution_count": null,
      "outputs": [
        {
          "output_type": "stream",
          "text": [
            "Entre com o primeiro número: 3\n",
            "Entre com o segundo número: 4\n",
            "4  maior que  3\n"
          ],
          "name": "stdout"
        }
      ]
    }
  ]
}