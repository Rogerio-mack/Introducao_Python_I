{
  "nbformat": 4,
  "nbformat_minor": 0,
  "metadata": {
    "kernelspec": {
      "display_name": "Python 3",
      "language": "python",
      "name": "python3"
    },
    "language_info": {
      "codemirror_mode": {
        "name": "ipython",
        "version": 3
      },
      "file_extension": ".py",
      "mimetype": "text/x-python",
      "name": "python",
      "nbconvert_exporter": "python",
      "pygments_lexer": "ipython3",
      "version": "3.7.4"
    },
    "colab": {
      "name": "Python_percorrendo_listas_e_dict.ipynb",
      "provenance": [],
      "toc_visible": true
    }
  },
  "cells": [
    {
      "cell_type": "markdown",
      "metadata": {
        "id": "IxXMSq0IpbMF"
      },
      "source": [
        "<head>\n",
        "  <meta name=\"author\" content=\"Rogério de Oliveira\">\n",
        "  <meta institution=\"author\" content=\"Universidade Presbiteriana Mackenzie\">\n",
        "</head>\n",
        "\n",
        "<img src=\"http://meusite.mackenzie.br/rogerio/mackenzie_logo/UPM.2_horizontal_vermelho.jpg\" width=300, align=\"right\"></a>\n",
        "<!-- <h1 align=left><font size = 6, style=\"color:rgb(200,0,0)\"> optional title </font></h1> -->"
      ]
    },
    {
      "cell_type": "markdown",
      "metadata": {
        "id": "9r0QOb6gpbMI"
      },
      "source": [
        "# **Percorrendo Listas e Dict**\n",
        "---"
      ]
    },
    {
      "cell_type": "markdown",
      "metadata": {
        "_uuid": "9dd9e07c590ca22f0c525222f60f0ebff4e092c6",
        "id": "7cLHVIcTpbMJ"
      },
      "source": [
        "# Varrendo Listas e 'Matrizes'\n",
        "\n",
        "Os códigos abaixo demonstram como fazer a varredura de Listas e Matrizes. O `print` dos elementos \n",
        "você poderá substituir pelo processamento desejado como, verificar uma condição, fazer uma atribuição etc. \n",
        "\n"
      ]
    },
    {
      "cell_type": "markdown",
      "metadata": {
        "id": "hQb_ZUU0xTHq"
      },
      "source": [
        "### Varrendo uma lista"
      ]
    },
    {
      "cell_type": "code",
      "metadata": {
        "id": "Nb67gw7gt5BT"
      },
      "source": [
        "mylist = [1,2,3,4,5,6,7,8,9]\n",
        "\n",
        "for elem in mylist:\n",
        "  print(elem)"
      ],
      "execution_count": null,
      "outputs": []
    },
    {
      "cell_type": "markdown",
      "metadata": {
        "id": "2PCz8-Y8vsb4"
      },
      "source": [
        "##### Transformando em uma função "
      ]
    },
    {
      "cell_type": "code",
      "metadata": {
        "id": "XH-m6psNvg0Q"
      },
      "source": [
        "def printelem(anylist):\n",
        "  for elem in anylist:\n",
        "    print(elem)\n",
        "  return\n",
        "\n",
        "printelem(mylist)\n",
        "\n"
      ],
      "execution_count": null,
      "outputs": []
    },
    {
      "cell_type": "markdown",
      "metadata": {
        "id": "4-zxHi0KxJF1"
      },
      "source": [
        "### Varrendo um matriz"
      ]
    },
    {
      "cell_type": "code",
      "metadata": {
        "id": "IPeXKIPtw4Ff"
      },
      "source": [
        "mymatrix = [[1,2,3],[4,5,6],[7,8,9]]\n",
        "\n",
        "for row in mymatrix:\n",
        "  for col in row:\n",
        "    print(col) \n"
      ],
      "execution_count": null,
      "outputs": []
    },
    {
      "cell_type": "markdown",
      "metadata": {
        "id": "JWJ3HBPEw4Fu"
      },
      "source": [
        "##### Transformando em uma função "
      ]
    },
    {
      "cell_type": "code",
      "metadata": {
        "id": "TerBD4e6w4Fw"
      },
      "source": [
        "def printelem(anymatrix):\n",
        "  for row in mymatrix:\n",
        "    for col in row:\n",
        "      print(col) \n",
        "  return\n",
        "\n",
        "printelem(mymatrix)\n",
        "\n"
      ],
      "execution_count": null,
      "outputs": []
    },
    {
      "cell_type": "code",
      "metadata": {
        "id": "zk3BlA-dx009",
        "colab": {
          "base_uri": "https://localhost:8080/",
          "height": 34
        },
        "outputId": "dccfa1f8-b04f-49ff-8dd3-dd9428d9451c"
      },
      "source": [
        "import numpy as np\n",
        "np.mod(9,2)"
      ],
      "execution_count": null,
      "outputs": [
        {
          "output_type": "execute_result",
          "data": {
            "text/plain": [
              "1"
            ]
          },
          "metadata": {
            "tags": []
          },
          "execution_count": 9
        }
      ]
    },
    {
      "cell_type": "markdown",
      "metadata": {
        "id": "CpPt6UTapbMM"
      },
      "source": [
        "# Faça você 1: Print somente pares \n",
        "\n",
        "Empregue agora a instrução\n",
        "\n",
        "     np.mod(9,2)\n",
        "\n",
        "Para alterar o código das funções acima para somente exibirem valores pares.\n",
        "\n",
        "\n"
      ]
    },
    {
      "cell_type": "code",
      "metadata": {
        "id": "JSBmgZPByxDO"
      },
      "source": [
        "import numpy as np # import da biblioteca numpy \n",
        "\n",
        "# Seu código\n",
        "def printelem(anylist):\n",
        "  for elem in anylist:\n",
        "    \n",
        "    if ???              # Verifica se é par\n",
        "    \n",
        "      print(elem)\n",
        "  return\n",
        "\n",
        "printelem(mylist)\n",
        "\n",
        "def printelem(anymatrix):\n",
        "  for row in mymatrix:\n",
        "    for col in row:\n",
        "\n",
        "      if ???            # Verifica se é par\n",
        "      \n",
        "        print(col) \n",
        "  return\n",
        "\n",
        "printelem(mymatrix)\n",
        "\n",
        "\n",
        "\n"
      ],
      "execution_count": null,
      "outputs": []
    },
    {
      "cell_type": "markdown",
      "metadata": {
        "id": "amvIB8Ncz2py"
      },
      "source": [
        "Double-click **aqui** para ver a resposta.\n",
        "<!-- Resposta:\n",
        "\n",
        "import numpy as np # import da biblioteca numpy \n",
        "\n",
        "# Seu código\n",
        "def printelem(anylist):\n",
        "  for elem in anylist:\n",
        "    if np.mod(elem,2) == 0:         # Verifica se é par\n",
        "      print(elem)\n",
        "  return\n",
        "\n",
        "printelem(mylist)\n",
        "\n",
        "def printelem(anymatrix):\n",
        "  for row in mymatrix:\n",
        "    for col in row:\n",
        "      if np.mod(col,2) == 0:       # Verifica se é par \n",
        "        print(col) \n",
        "  return\n",
        "\n",
        "printelem(mymatrix)\n",
        "\n",
        "-->"
      ]
    },
    {
      "cell_type": "markdown",
      "metadata": {
        "id": "aew5D43S3Hq_"
      },
      "source": [
        "### Varrendo listas à partir de índices\n",
        "\n",
        "Para varrer uma lista você pode também empregar índices como é comum em liguagens como C e Java:  "
      ]
    },
    {
      "cell_type": "code",
      "metadata": {
        "id": "7FL2sTDG3nFb",
        "colab": {
          "base_uri": "https://localhost:8080/",
          "height": 340
        },
        "outputId": "ac64b49c-757d-4bc7-e95e-991c94bf0270"
      },
      "source": [
        "import numpy as np # import da biblioteca numpy \n",
        "\n",
        "# Seu código\n",
        "def printelem(anylist):\n",
        "  for i in range(len(anylist)):\n",
        "    print(anylist[i])\n",
        "  return\n",
        "\n",
        "printelem(mylist)\n",
        "\n",
        "def printelem(anymatrix):\n",
        "  for i in range(len(mymatrix)):\n",
        "    for j in range(len(mymatrix[i])):\n",
        "      print(anymatrix[i][j]) \n",
        "  return\n",
        "\n",
        "printelem(mymatrix)"
      ],
      "execution_count": null,
      "outputs": [
        {
          "output_type": "stream",
          "text": [
            "1\n",
            "2\n",
            "3\n",
            "4\n",
            "5\n",
            "6\n",
            "7\n",
            "8\n",
            "9\n",
            "10\n",
            "1\n",
            "2\n",
            "3\n",
            "4\n",
            "5\n",
            "6\n",
            "7\n",
            "8\n",
            "9\n"
          ],
          "name": "stdout"
        }
      ]
    },
    {
      "cell_type": "code",
      "metadata": {
        "id": "UDxrbtuc4Ohr",
        "colab": {
          "base_uri": "https://localhost:8080/",
          "height": 34
        },
        "outputId": "f0f1724b-4d0e-4b73-8211-4ff2ecc6d8e6"
      },
      "source": [
        "mymatrix[0][1]"
      ],
      "execution_count": null,
      "outputs": [
        {
          "output_type": "execute_result",
          "data": {
            "text/plain": [
              "2"
            ]
          },
          "metadata": {
            "tags": []
          },
          "execution_count": 17
        }
      ]
    },
    {
      "cell_type": "markdown",
      "metadata": {
        "id": "Np9zWcAH1mod"
      },
      "source": [
        "# Faça você 2: Criando sub-listas a partir de uma lista\n",
        "\n",
        "Altere a função `printelem`, que faz o print dos elementos de uma lista pelo método de índices, para retornar uma sub-lista somente com os elementos de valor par. Não esqueça de empregar a instrução:\n",
        "  \n",
        "    <lista>.append(<elemento>)\n",
        "\n",
        "para inserir elementos nessa sublista.\n",
        "\n",
        "\n"
      ]
    },
    {
      "cell_type": "code",
      "metadata": {
        "id": "N9afiEjApbMN",
        "colab": {
          "base_uri": "https://localhost:8080/",
          "height": 34
        },
        "outputId": "0289c78a-f51d-4c6c-a7c4-e1a88bf67a48"
      },
      "source": [
        "def sub_par(anylist):\n",
        "    \n",
        "    ???                                         # inicializa sublista vazia\n",
        "    \n",
        "    for i in range(len(anylist)):\n",
        "        if np.mod(anylist[i],2) == 0:           # Se par\n",
        "            \n",
        "            ???                                 # adiciona o elemnto na sublista \n",
        " \n",
        "    return pares                                # retorna a sublista\n",
        "\n",
        "mypares = sub_par(mylist)\n",
        "print(mypares)\n",
        "\n",
        "\n"
      ],
      "execution_count": null,
      "outputs": [
        {
          "output_type": "stream",
          "text": [
            "[2, 4, 6, 8, 10]\n"
          ],
          "name": "stdout"
        }
      ]
    },
    {
      "cell_type": "markdown",
      "metadata": {
        "id": "tX-8Nmie7mZg"
      },
      "source": [
        "Double-click **aqui** para ver a resposta.\n",
        "<!-- Resposta:\n",
        "\n",
        "def sub_par(anylist):\n",
        "    pares = []        # inicializa sublista vazia\n",
        "    for i in range(len(anylist)):\n",
        "        if np.mod(anylist[i],2) == 0:          # Se par\n",
        "            pares.append(anylist[i])     # adiciona o elemnto na sublista \n",
        "    return pares      # retorna a sublista\n",
        "\n",
        "mypares = sub_par(mylist)\n",
        "print(mypares)\n",
        "\n",
        "-->"
      ]
    },
    {
      "cell_type": "markdown",
      "metadata": {
        "id": "3YqmfgJ4pbMT"
      },
      "source": [
        "### `split` e `upper` functions \n",
        "\n",
        "Essa é uma função bastante útil para separar elementos de uma `string` seperados por um delimitador. Podem ser palavras separadas por ' ' (brancos) ou valores separados por ';' em um arquivo .csv.\n",
        "\n",
        "Você também pode empregar a função `upper` para transformar uma string que contenha letras minúsculas e maiúsculas para uma string somente com letras maiúsculas. Isso é útil quando você quer que termos com o mesmo significado sejam considerados o mesmo termo pois como strings 'LOVE' != 'love'. \n",
        "\n",
        "Veja como funcionam: "
      ]
    },
    {
      "cell_type": "code",
      "metadata": {
        "id": "a9XyM1LK-gT3",
        "colab": {
          "base_uri": "https://localhost:8080/",
          "height": 34
        },
        "outputId": "1ade0433-ab00-4e98-e3c6-0dd0a8110dbd"
      },
      "source": [
        "text_csv = '1;2;3;4;5;6;7;8;9' \n",
        "text_csv.split(';')"
      ],
      "execution_count": null,
      "outputs": [
        {
          "output_type": "execute_result",
          "data": {
            "text/plain": [
              "['1', '2', '3', '4', '5', '6', '7', '8', '9']"
            ]
          },
          "metadata": {
            "tags": []
          },
          "execution_count": 22
        }
      ]
    },
    {
      "cell_type": "code",
      "metadata": {
        "id": "oBr-8lRV-wKo"
      },
      "source": [
        "text = 'Everyday life is like programming, I guess. If you love something you can put beauty into it. (Donald Knuth)'\n",
        "text.split()"
      ],
      "execution_count": null,
      "outputs": []
    },
    {
      "cell_type": "code",
      "metadata": {
        "id": "CpxvZpPzGYvT",
        "colab": {
          "base_uri": "https://localhost:8080/",
          "height": 51
        },
        "outputId": "23f19c50-c28b-4caf-f839-adb31b62f597"
      },
      "source": [
        "print('LOVE' == 'love')\n",
        "print('LOVE' == 'love'.upper())"
      ],
      "execution_count": null,
      "outputs": [
        {
          "output_type": "stream",
          "text": [
            "False\n",
            "True\n"
          ],
          "name": "stdout"
        }
      ]
    },
    {
      "cell_type": "markdown",
      "metadata": {
        "id": "lsdq6XMcIB6n"
      },
      "source": [
        "# Faça você 3: Dictionary\n",
        "\n",
        "Considere a frase:\n",
        "\n",
        "    text = 'To be or not to be This is the question'\n",
        "\n",
        "Tente colocar cada palavra do texto como entrada de um dicionário. Lembre-se que me um dicionário não aparecem palavras repetidas.\n",
        "   \n",
        "\n"
      ]
    },
    {
      "cell_type": "code",
      "metadata": {
        "id": "L8yfmnwqJIrY",
        "colab": {
          "base_uri": "https://localhost:8080/",
          "height": 51
        },
        "outputId": "8b0889dd-a90d-4481-95e4-d50b9f4c1427"
      },
      "source": [
        "text = 'To be or not to be This is the question'\n",
        "\n",
        "text_u = ???                            # converte para upper\n",
        "\n",
        "print(text_u)\n",
        "\n",
        "mydict = ???                            # crie um dicionário vazio\n",
        "\n",
        "for word in ???:                        # para cada palavra em text_u (empregue split())\n",
        "  if ???                                # se palavra não está no dicionário \n",
        "    mydict[word] = 1                      # acrescenta a entrada com o valor 1\n",
        "  else:                                 # se a entrada já existe \n",
        "    mydict[word] =  ???                 # apenas soma 1 ao valor já existente\n",
        "\n",
        "print(mydict)    \n"
      ],
      "execution_count": null,
      "outputs": [
        {
          "output_type": "stream",
          "text": [
            "TO BE OR NOT TO BE THIS IS THE QUESTION\n",
            "{'TO': 2, 'BE': 2, 'OR': 1, 'NOT': 1, 'THIS': 1, 'IS': 1, 'THE': 1, 'QUESTION': 1}\n"
          ],
          "name": "stdout"
        }
      ]
    },
    {
      "cell_type": "markdown",
      "metadata": {
        "id": "K-Fa4ZWEK5wd"
      },
      "source": [
        "Double-click **aqui** para ver a resposta.\n",
        "<!-- Resposta:\n",
        "\n",
        "text = 'To be or not to be This is the question'\n",
        "\n",
        "text_u = text.upper()                   # converte para upper\n",
        "\n",
        "print(text_u)\n",
        "\n",
        "mydict = { }                            # crie um dicionário vazio\n",
        "\n",
        "for word in text_u.split():             # para cada palavra em text_u\n",
        "  if word not in mydict.keys():         # se palavra não está no dicionário \n",
        "    mydict[word] = 1                      # acrescenta a entrada com o valor 1\n",
        "  else:                                 # se a entrada já existe \n",
        "    mydict[word] =  mydict[word] + 1      # apenas soma 1 ao valor já existente\n",
        "\n",
        "print(mydict)    \n",
        "\n",
        "-->\n"
      ]
    },
    {
      "cell_type": "markdown",
      "metadata": {
        "id": "xoIgykD6QMMH"
      },
      "source": [
        ""
      ]
    },
    {
      "cell_type": "markdown",
      "metadata": {
        "id": "TomdS-n6M7XL"
      },
      "source": [
        "## Luhn e Zipf Law\n",
        "\n",
        "As palavras que um texto contêm e a frequencia delas pode muito bem dar uma pista do conteúdo do texto  \n",
        "\n",
        "> Hans Peter Luhn (1957): **The weight of a term that occurs in a document is simply proportional to the term frequency**.\n",
        "\n",
        "Entretanto parecem haver termos muito frequentes, como artigos, preposições etc. que parecem contribuir muito pouco para explicar o conteúdo de um texto.\n",
        "\n",
        "> George Kingsley Zipf: **Zipf's law states that given a large sample of words used, the frequency of any word is inversely proportional to its rank in the frequency table. So word number n has a frequency proportional to 1/n.**\n",
        "\n",
        "Isso ocorre em todo o texto de produção humana e, importante, em *qualquer língua*. Esse princípio é empregado desde para decifrar códigos e texto em linguas antigas, como em modernos sistemas de mineração de texto (*search engines*, bibliotecas digitais, classificação automática de conteúdo etc.).\n",
        "\n",
        "Veja alguns textos famosos em diferentes línguas:  \n"
      ]
    },
    {
      "cell_type": "code",
      "metadata": {
        "id": "myR3OpcmM-de"
      },
      "source": [
        "from IPython.display import IFrame\n",
        "IFrame('https://demonstrations.wolfram.com/ZipfsLawAppliedToWordAndLetterFrequencies/', width='100%', height=200)"
      ],
      "execution_count": null,
      "outputs": []
    }
  ]
}