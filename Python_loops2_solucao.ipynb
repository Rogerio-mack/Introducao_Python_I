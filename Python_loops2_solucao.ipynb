{
  "nbformat": 4,
  "nbformat_minor": 0,
  "metadata": {
    "kernelspec": {
      "display_name": "Python 3",
      "language": "python",
      "name": "python3"
    },
    "language_info": {
      "codemirror_mode": {
        "name": "ipython",
        "version": 3
      },
      "file_extension": ".py",
      "mimetype": "text/x-python",
      "name": "python",
      "nbconvert_exporter": "python",
      "pygments_lexer": "ipython3",
      "version": "3.7.6"
    },
    "colab": {
      "name": "Python_loops2_solucao.ipynb",
      "provenance": [],
      "collapsed_sections": []
    }
  },
  "cells": [
    {
      "cell_type": "markdown",
      "metadata": {
        "id": "J0YsSuRJkrSV"
      },
      "source": [
        "<head>\n",
        "  <meta name=\"author\" content=\"Rogério de Oliveira\">\n",
        "  <meta institution=\"author\" content=\"Universidade Presbiteriana Mackenzie\">\n",
        "</head>\n",
        "\n",
        "<img src=\"http://meusite.mackenzie.br/rogerio/mackenzie_logo/UPM.2_horizontal_vermelho.jpg\" width=300, align=\"right\"></a>\n",
        "<!-- <h1 align=left><font size = 6, style=\"color:rgb(200,0,0)\"> optional title </font></h1> -->"
      ]
    },
    {
      "cell_type": "markdown",
      "metadata": {
        "id": "guaxIf-ikrSX"
      },
      "source": [
        "# **Python Loops: FOR**\n",
        "---"
      ]
    },
    {
      "cell_type": "markdown",
      "metadata": {
        "id": "LC-Agt8Bubwy"
      },
      "source": [
        "# **While** e **For** Loops\n",
        "\n",
        "Instruções `while` e `for` permitem implementar *laços* de execução nos programas, os chamados *loops* \\*. São blocos de instruções que se repetem até satisfazer alguma condição com chegar a um determinado valor ou índice.\n",
        "\n",
        "Os *loops* são muito úteis para codificar situações repetitivas sem a necessidade de extensas linhas de código que se repetem.\n",
        "\n",
        "\\* *não confunda, às vezes também empregamos o têrmo 'loop' para quando um programa, geralmente por erro, 'não para'.*\n",
        "\n",
        "\n",
        "\n"
      ]
    },
    {
      "cell_type": "markdown",
      "metadata": {
        "id": "UjUrAfaofRF1"
      },
      "source": [
        "# For Range\n",
        "\n",
        "`range(< start >, < limit >, < step >)` "
      ]
    },
    {
      "cell_type": "code",
      "metadata": {
        "id": "6u1VYAzpEFcJ",
        "colab": {
          "base_uri": "https://localhost:8080/",
          "height": 123
        },
        "outputId": "57670baa-f580-4214-b8af-720ac6e38567"
      },
      "source": [
        "for x in range(6):\n",
        "  print(x)"
      ],
      "execution_count": null,
      "outputs": [
        {
          "output_type": "stream",
          "text": [
            "0\n",
            "1\n",
            "2\n",
            "3\n",
            "4\n",
            "5\n"
          ],
          "name": "stdout"
        }
      ]
    },
    {
      "cell_type": "code",
      "metadata": {
        "id": "w0Ewp2W-T5CL",
        "colab": {
          "base_uri": "https://localhost:8080/",
          "height": 141
        },
        "outputId": "847f45d7-46e7-4c69-8bb2-f1a4e97295ac"
      },
      "source": [
        "for x in range(6):\n",
        "  print(x)\n",
        "else:\n",
        "  print(\"Depois de 6 terminou!\")"
      ],
      "execution_count": null,
      "outputs": [
        {
          "output_type": "stream",
          "text": [
            "0\n",
            "1\n",
            "2\n",
            "3\n",
            "4\n",
            "5\n",
            "Depois de 6 terminou!\n"
          ],
          "name": "stdout"
        }
      ]
    },
    {
      "cell_type": "code",
      "metadata": {
        "id": "R2rmY21tUGda",
        "colab": {
          "base_uri": "https://localhost:8080/",
          "height": 123
        },
        "outputId": "cf5e3861-6331-40cc-80ed-f2248fea3fd6"
      },
      "source": [
        "for x in range(1,6):\n",
        "  print(x)\n",
        "else:\n",
        "  print(\"Depois de 5 terminou!\")"
      ],
      "execution_count": null,
      "outputs": [
        {
          "output_type": "stream",
          "text": [
            "1\n",
            "2\n",
            "3\n",
            "4\n",
            "5\n",
            "Depois de 5 terminou!\n"
          ],
          "name": "stdout"
        }
      ]
    },
    {
      "cell_type": "code",
      "metadata": {
        "id": "J1MHk0iIUR8f",
        "colab": {
          "base_uri": "https://localhost:8080/",
          "height": 90
        },
        "outputId": "6e67ccc5-197b-42d6-c0a5-67d8daf99395"
      },
      "source": [
        "for x in range(0,6,2):\n",
        "  print(x)\n",
        "else:\n",
        "  print(\"Depois de 3 terminou!\")"
      ],
      "execution_count": null,
      "outputs": [
        {
          "output_type": "stream",
          "text": [
            "0\n",
            "2\n",
            "4\n",
            "Depois de 3 terminou!\n"
          ],
          "name": "stdout"
        }
      ]
    },
    {
      "cell_type": "code",
      "metadata": {
        "id": "42UyF2I1VeKE",
        "colab": {
          "base_uri": "https://localhost:8080/",
          "height": 199
        },
        "outputId": "f2792d4b-2795-41c8-e467-9b4a745c2afd"
      },
      "source": [
        "start = int(input('Start: '))\n",
        "limit = int(input('Limit: '))\n",
        "step = int(input('Step: '))\n",
        "\n",
        "for i in range(start,limit,step):\n",
        "  print(i)\n",
        "print('...done')\n"
      ],
      "execution_count": null,
      "outputs": [
        {
          "output_type": "stream",
          "text": [
            "Start: 0\n",
            "Limit: 6\n",
            "Step: 1\n",
            "0\n",
            "1\n",
            "2\n",
            "3\n",
            "4\n",
            "5\n",
            "...done\n"
          ],
          "name": "stdout"
        }
      ]
    },
    {
      "cell_type": "code",
      "metadata": {
        "id": "f18EBcsJHhb4"
      },
      "source": [
        "start = int(input('Start: '))\n",
        "limit = int(input('Limit: '))\n",
        "step = int(input('Step: '))\n",
        "\n",
        "i = start\n",
        "while i < limit:\n",
        "  print(i)\n",
        "  i = i + step\n",
        "print('...done')"
      ],
      "execution_count": null,
      "outputs": []
    },
    {
      "cell_type": "markdown",
      "metadata": {
        "id": "sgdL0b5BVRWU"
      },
      "source": [
        "# Nested For Loops\n"
      ]
    },
    {
      "cell_type": "code",
      "metadata": {
        "id": "iMbMb3j6VVyw",
        "colab": {
          "base_uri": "https://localhost:8080/",
          "height": 181
        },
        "outputId": "fcd8cd3e-3f61-4515-e0e5-ee35e8b1f9ff"
      },
      "source": [
        "for i in range(3):\n",
        "  for j in range(3):\n",
        "    print(i,j)"
      ],
      "execution_count": null,
      "outputs": [
        {
          "output_type": "stream",
          "text": [
            "0 0\n",
            "0 1\n",
            "0 2\n",
            "1 0\n",
            "1 1\n",
            "1 2\n",
            "2 0\n",
            "2 1\n",
            "2 2\n"
          ],
          "name": "stdout"
        }
      ]
    },
    {
      "cell_type": "code",
      "metadata": {
        "id": "y1OxWQdmXB00",
        "colab": {
          "base_uri": "https://localhost:8080/",
          "height": 70
        },
        "outputId": "53ca0290-c094-496a-defc-3ed58cfc4d95"
      },
      "source": [
        "for i in range(3):\n",
        "  line = ''\n",
        "  for j in range(3):\n",
        "    line = line + str(i) + ',' + str(j) + '  '\n",
        "  print(line)    "
      ],
      "execution_count": null,
      "outputs": [
        {
          "output_type": "stream",
          "text": [
            "0,0  0,1  0,2  \n",
            "1,0  1,1  1,2  \n",
            "2,0  2,1  2,2  \n"
          ],
          "name": "stdout"
        }
      ]
    },
    {
      "cell_type": "markdown",
      "metadata": {
        "id": "B4_B_eY6XpqT"
      },
      "source": [
        "# For, Break and Continue\n",
        "\n",
        "Mas veja se você realmente precisa disso!"
      ]
    },
    {
      "cell_type": "code",
      "metadata": {
        "id": "ALt2zc49XvoM",
        "colab": {
          "base_uri": "https://localhost:8080/",
          "height": 141
        },
        "outputId": "d503d490-d35d-4855-bc06-ea9093a93163"
      },
      "source": [
        "for i in range(10):\n",
        "  print(i)  \n",
        "  if i == 6:\n",
        "    break"
      ],
      "execution_count": null,
      "outputs": [
        {
          "output_type": "stream",
          "text": [
            "0\n",
            "1\n",
            "2\n",
            "3\n",
            "4\n",
            "5\n",
            "6\n"
          ],
          "name": "stdout"
        }
      ]
    },
    {
      "cell_type": "code",
      "metadata": {
        "id": "WjKtEfFRYI8U",
        "colab": {
          "base_uri": "https://localhost:8080/",
          "height": 176
        },
        "outputId": "eb249a21-adbd-4dbc-ca36-13b8c3cc7a5d"
      },
      "source": [
        "for i in range(10):\n",
        "  if i == 6:\n",
        "    continue\n",
        "  print(i)    "
      ],
      "execution_count": null,
      "outputs": [
        {
          "output_type": "stream",
          "text": [
            "0\n",
            "1\n",
            "2\n",
            "3\n",
            "4\n",
            "5\n",
            "7\n",
            "8\n",
            "9\n"
          ],
          "name": "stdout"
        }
      ]
    },
    {
      "cell_type": "markdown",
      "metadata": {
        "id": "e68XzIyIYcnz"
      },
      "source": [
        "# For lists\n",
        "\n",
        "Um item avançado mas que adiantamos aqui... ;-)"
      ]
    },
    {
      "cell_type": "code",
      "metadata": {
        "id": "LiHnM4jQdMre",
        "colab": {
          "base_uri": "https://localhost:8080/",
          "height": 87
        },
        "outputId": "42c9fce0-b94e-4b30-e68f-0b0364bb8fe8"
      },
      "source": [
        "for i in [0,1,2,3]:\n",
        "  print('Passando aqui...', i , '-ésima vez')"
      ],
      "execution_count": null,
      "outputs": [
        {
          "output_type": "stream",
          "text": [
            "Passando aqui... 0 -ésima vez\n",
            "Passando aqui... 1 -ésima vez\n",
            "Passando aqui... 2 -ésima vez\n",
            "Passando aqui... 3 -ésima vez\n"
          ],
          "name": "stdout"
        }
      ]
    },
    {
      "cell_type": "code",
      "metadata": {
        "id": "vROiXZfEYgnX",
        "colab": {
          "base_uri": "https://localhost:8080/",
          "height": 70
        },
        "outputId": "b4449d5d-3594-4cc6-dc4b-900df919fd12"
      },
      "source": [
        "alunos = ['anna', 'beatriz', 'daniel']\n",
        "\n",
        "for aluno in alunos:\n",
        "  print(aluno)"
      ],
      "execution_count": null,
      "outputs": [
        {
          "output_type": "stream",
          "text": [
            "anna\n",
            "beatriz\n",
            "daniel\n"
          ],
          "name": "stdout"
        }
      ]
    },
    {
      "cell_type": "markdown",
      "metadata": {
        "id": "vwLYYpp1tyIs"
      },
      "source": [
        "# Exercício 1\n",
        "\n",
        "Escreva um programa que apresente todos os ímpares de 1 até 99."
      ]
    },
    {
      "cell_type": "code",
      "metadata": {
        "id": "tSqRgExSP-9l",
        "colab": {
          "base_uri": "https://localhost:8080/",
          "height": 905
        },
        "outputId": "39a7c00d-9492-4ad6-96f0-7ad2632c78fd"
      },
      "source": [
        "# Seu código\n",
        "for i in range(1,100,1):\n",
        "    if (i%2 != 0):\n",
        "        print(i)"
      ],
      "execution_count": null,
      "outputs": [
        {
          "output_type": "stream",
          "text": [
            "1\n",
            "3\n",
            "5\n",
            "7\n",
            "9\n",
            "11\n",
            "13\n",
            "15\n",
            "17\n",
            "19\n",
            "21\n",
            "23\n",
            "25\n",
            "27\n",
            "29\n",
            "31\n",
            "33\n",
            "35\n",
            "37\n",
            "39\n",
            "41\n",
            "43\n",
            "45\n",
            "47\n",
            "49\n",
            "51\n",
            "53\n",
            "55\n",
            "57\n",
            "59\n",
            "61\n",
            "63\n",
            "65\n",
            "67\n",
            "69\n",
            "71\n",
            "73\n",
            "75\n",
            "77\n",
            "79\n",
            "81\n",
            "83\n",
            "85\n",
            "87\n",
            "89\n",
            "91\n",
            "93\n",
            "95\n",
            "97\n",
            "99\n"
          ],
          "name": "stdout"
        }
      ]
    },
    {
      "cell_type": "markdown",
      "metadata": {
        "id": "kNLkJR1rQDOg"
      },
      "source": [
        "# Exercício 2\n",
        "\n",
        "Escreva um programa que apresente os n (1 <= n <= 20) primeiros termos da seguinte sequência: 1, 4, 9, 16, 25, ..."
      ]
    },
    {
      "cell_type": "code",
      "metadata": {
        "id": "UmVPRxOrQDOk",
        "colab": {
          "base_uri": "https://localhost:8080/",
          "height": 372
        },
        "outputId": "3292cfb2-a614-4f3c-f2f6-abf2f22e145b"
      },
      "source": [
        "# Seu código\n",
        "for i in range(1,21,1):\n",
        "    print(i*i)\n"
      ],
      "execution_count": null,
      "outputs": [
        {
          "output_type": "stream",
          "text": [
            "1\n",
            "4\n",
            "9\n",
            "16\n",
            "25\n",
            "36\n",
            "49\n",
            "64\n",
            "81\n",
            "100\n",
            "121\n",
            "144\n",
            "169\n",
            "196\n",
            "225\n",
            "256\n",
            "289\n",
            "324\n",
            "361\n",
            "400\n"
          ],
          "name": "stdout"
        }
      ]
    },
    {
      "cell_type": "markdown",
      "metadata": {
        "id": "KOGRsN3yQOQi"
      },
      "source": [
        "# Exercício 3\n",
        "\n",
        "Faça um programa que calcule e apresente o fatorial de um número inteiro e natural fornecido\n",
        "pelo usuário.\n",
        "\n",
        "Exemplo: 5! = 5 x 4 x 3 x 2 x 1 = 120.\n",
        "Por definição 0! = 1."
      ]
    },
    {
      "cell_type": "code",
      "metadata": {
        "id": "5MmoW831QOQl",
        "colab": {
          "base_uri": "https://localhost:8080/",
          "height": 52
        },
        "outputId": "58bd7b02-6d8d-4a5c-90b4-e7d888ee2815"
      },
      "source": [
        "# Seu código\n",
        "n = int(input(\"Qual o número que você deseja calcular o fatorial? \"))\n",
        "fat = 1\n",
        "\n",
        "for i in range(1,n+1,1):\n",
        "    fat = fat * i\n",
        "\n",
        "print (\"O fatorial de\", n, \"=\", fat)"
      ],
      "execution_count": null,
      "outputs": [
        {
          "output_type": "stream",
          "text": [
            "Qual o número que você deseja calcular o fatorial? 4\n",
            "O fatorial de 4 = 24\n"
          ],
          "name": "stdout"
        }
      ]
    },
    {
      "cell_type": "markdown",
      "metadata": {
        "id": "z8LfCQ9PQb8a"
      },
      "source": [
        "# Exercício 4\n",
        "\n",
        "A conversão de graus Fahrenheit para Celsius é obtida pela fórmula: \n",
        "\n",
        "$$𝐶 = \\frac{5}{9}(𝐹 − 32)$$\n",
        "\n",
        "Escreva um programa que calcule e apresente uma tabela de graus Celsius em função de graus Fahrenheit que variem de 50 a 150, de 1 em 1.\n"
      ]
    },
    {
      "cell_type": "code",
      "metadata": {
        "id": "3T0YeyRmQb8e",
        "colab": {
          "base_uri": "https://localhost:8080/",
          "height": 1000
        },
        "outputId": "eb888d64-cedb-4abf-f302-7fd20035f1fa"
      },
      "source": [
        "# Seu código\n",
        "celsius = 0\n",
        "\n",
        "for i in range(50,151,1):\n",
        "    celsius = (5/9)*(i - 32)\n",
        "    print(i, \"Fahrenheit =\" , \"%.2f\" %celsius, \"Celsius\") \n"
      ],
      "execution_count": null,
      "outputs": [
        {
          "output_type": "stream",
          "text": [
            "50 Fahrenheit = 10.00 Celsius\n",
            "51 Fahrenheit = 10.56 Celsius\n",
            "52 Fahrenheit = 11.11 Celsius\n",
            "53 Fahrenheit = 11.67 Celsius\n",
            "54 Fahrenheit = 12.22 Celsius\n",
            "55 Fahrenheit = 12.78 Celsius\n",
            "56 Fahrenheit = 13.33 Celsius\n",
            "57 Fahrenheit = 13.89 Celsius\n",
            "58 Fahrenheit = 14.44 Celsius\n",
            "59 Fahrenheit = 15.00 Celsius\n",
            "60 Fahrenheit = 15.56 Celsius\n",
            "61 Fahrenheit = 16.11 Celsius\n",
            "62 Fahrenheit = 16.67 Celsius\n",
            "63 Fahrenheit = 17.22 Celsius\n",
            "64 Fahrenheit = 17.78 Celsius\n",
            "65 Fahrenheit = 18.33 Celsius\n",
            "66 Fahrenheit = 18.89 Celsius\n",
            "67 Fahrenheit = 19.44 Celsius\n",
            "68 Fahrenheit = 20.00 Celsius\n",
            "69 Fahrenheit = 20.56 Celsius\n",
            "70 Fahrenheit = 21.11 Celsius\n",
            "71 Fahrenheit = 21.67 Celsius\n",
            "72 Fahrenheit = 22.22 Celsius\n",
            "73 Fahrenheit = 22.78 Celsius\n",
            "74 Fahrenheit = 23.33 Celsius\n",
            "75 Fahrenheit = 23.89 Celsius\n",
            "76 Fahrenheit = 24.44 Celsius\n",
            "77 Fahrenheit = 25.00 Celsius\n",
            "78 Fahrenheit = 25.56 Celsius\n",
            "79 Fahrenheit = 26.11 Celsius\n",
            "80 Fahrenheit = 26.67 Celsius\n",
            "81 Fahrenheit = 27.22 Celsius\n",
            "82 Fahrenheit = 27.78 Celsius\n",
            "83 Fahrenheit = 28.33 Celsius\n",
            "84 Fahrenheit = 28.89 Celsius\n",
            "85 Fahrenheit = 29.44 Celsius\n",
            "86 Fahrenheit = 30.00 Celsius\n",
            "87 Fahrenheit = 30.56 Celsius\n",
            "88 Fahrenheit = 31.11 Celsius\n",
            "89 Fahrenheit = 31.67 Celsius\n",
            "90 Fahrenheit = 32.22 Celsius\n",
            "91 Fahrenheit = 32.78 Celsius\n",
            "92 Fahrenheit = 33.33 Celsius\n",
            "93 Fahrenheit = 33.89 Celsius\n",
            "94 Fahrenheit = 34.44 Celsius\n",
            "95 Fahrenheit = 35.00 Celsius\n",
            "96 Fahrenheit = 35.56 Celsius\n",
            "97 Fahrenheit = 36.11 Celsius\n",
            "98 Fahrenheit = 36.67 Celsius\n",
            "99 Fahrenheit = 37.22 Celsius\n",
            "100 Fahrenheit = 37.78 Celsius\n",
            "101 Fahrenheit = 38.33 Celsius\n",
            "102 Fahrenheit = 38.89 Celsius\n",
            "103 Fahrenheit = 39.44 Celsius\n",
            "104 Fahrenheit = 40.00 Celsius\n",
            "105 Fahrenheit = 40.56 Celsius\n",
            "106 Fahrenheit = 41.11 Celsius\n",
            "107 Fahrenheit = 41.67 Celsius\n",
            "108 Fahrenheit = 42.22 Celsius\n",
            "109 Fahrenheit = 42.78 Celsius\n",
            "110 Fahrenheit = 43.33 Celsius\n",
            "111 Fahrenheit = 43.89 Celsius\n",
            "112 Fahrenheit = 44.44 Celsius\n",
            "113 Fahrenheit = 45.00 Celsius\n",
            "114 Fahrenheit = 45.56 Celsius\n",
            "115 Fahrenheit = 46.11 Celsius\n",
            "116 Fahrenheit = 46.67 Celsius\n",
            "117 Fahrenheit = 47.22 Celsius\n",
            "118 Fahrenheit = 47.78 Celsius\n",
            "119 Fahrenheit = 48.33 Celsius\n",
            "120 Fahrenheit = 48.89 Celsius\n",
            "121 Fahrenheit = 49.44 Celsius\n",
            "122 Fahrenheit = 50.00 Celsius\n",
            "123 Fahrenheit = 50.56 Celsius\n",
            "124 Fahrenheit = 51.11 Celsius\n",
            "125 Fahrenheit = 51.67 Celsius\n",
            "126 Fahrenheit = 52.22 Celsius\n",
            "127 Fahrenheit = 52.78 Celsius\n",
            "128 Fahrenheit = 53.33 Celsius\n",
            "129 Fahrenheit = 53.89 Celsius\n",
            "130 Fahrenheit = 54.44 Celsius\n",
            "131 Fahrenheit = 55.00 Celsius\n",
            "132 Fahrenheit = 55.56 Celsius\n",
            "133 Fahrenheit = 56.11 Celsius\n",
            "134 Fahrenheit = 56.67 Celsius\n",
            "135 Fahrenheit = 57.22 Celsius\n",
            "136 Fahrenheit = 57.78 Celsius\n",
            "137 Fahrenheit = 58.33 Celsius\n",
            "138 Fahrenheit = 58.89 Celsius\n",
            "139 Fahrenheit = 59.44 Celsius\n",
            "140 Fahrenheit = 60.00 Celsius\n",
            "141 Fahrenheit = 60.56 Celsius\n",
            "142 Fahrenheit = 61.11 Celsius\n",
            "143 Fahrenheit = 61.67 Celsius\n",
            "144 Fahrenheit = 62.22 Celsius\n",
            "145 Fahrenheit = 62.78 Celsius\n",
            "146 Fahrenheit = 63.33 Celsius\n",
            "147 Fahrenheit = 63.89 Celsius\n",
            "148 Fahrenheit = 64.44 Celsius\n",
            "149 Fahrenheit = 65.00 Celsius\n",
            "150 Fahrenheit = 65.56 Celsius\n"
          ],
          "name": "stdout"
        }
      ]
    },
    {
      "cell_type": "markdown",
      "metadata": {
        "id": "SZ8yFKueR9ZE"
      },
      "source": [
        "# Exercício 5 RESOLVIDO\n",
        "Elabore um programa que calcule e apresente o valor de S, dado por:\n",
        "\n",
        "$$𝑆 = \\frac{1}{N} + \\frac{2}{N-1} + \\frac{3}{N-2} + ... + \\frac{N-1}{2} + N$$\n",
        "\n",
        "Sendo N fornecido pelo usuário.\n"
      ]
    },
    {
      "cell_type": "code",
      "metadata": {
        "id": "OTecxzN1R9ZL"
      },
      "source": [
        "# Seu código\n",
        "n = int(input(\"Digite o valor de n: \"))\n",
        "S = 0\n",
        "denominador = n\n",
        "\n",
        "for i in range(1,n+1,1):  \n",
        "    print(\"termo\",i ,\"=\",i,\"/\",denominador)\n",
        "    \n",
        "    S = S + i/denominador\n",
        "    denominador = denominador - 1\n",
        "\n",
        "print(\"\\nA soma é\", \"%.2f\" %S)"
      ],
      "execution_count": null,
      "outputs": []
    }
  ]
}