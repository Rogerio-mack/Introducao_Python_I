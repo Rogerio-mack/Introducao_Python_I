{
  "nbformat": 4,
  "nbformat_minor": 0,
  "metadata": {
    "kernelspec": {
      "display_name": "Python 3",
      "language": "python",
      "name": "python3"
    },
    "language_info": {
      "codemirror_mode": {
        "name": "ipython",
        "version": 3
      },
      "file_extension": ".py",
      "mimetype": "text/x-python",
      "name": "python",
      "nbconvert_exporter": "python",
      "pygments_lexer": "ipython3",
      "version": "3.7.4"
    },
    "colab": {
      "name": "Python_IF.ipynb",
      "provenance": [],
      "collapsed_sections": []
    }
  },
  "cells": [
    {
      "cell_type": "markdown",
      "metadata": {
        "id": "J0YsSuRJkrSV"
      },
      "source": [
        "<head>\n",
        "  <meta name=\"author\" content=\"Rogério de Oliveira\">\n",
        "  <meta institution=\"author\" content=\"Universidade Presbiteriana Mackenzie\">\n",
        "</head>\n",
        "\n",
        "<img src=\"http://meusite.mackenzie.br/rogerio/mackenzie_logo/UPM.2_horizontal_vermelho.jpg\" width=300, align=\"right\"></a>\n",
        "<!-- <h1 align=left><font size = 6, style=\"color:rgb(200,0,0)\"> optional title </font></h1> -->"
      ]
    },
    {
      "cell_type": "markdown",
      "metadata": {
        "id": "guaxIf-ikrSX"
      },
      "source": [
        "# **Python If-Then-Else**"
      ]
    },
    {
      "cell_type": "markdown",
      "metadata": {
        "id": "AenzTE16PJkn"
      },
      "source": [
        "# Exemplos Simples de `if-else`\n"
      ]
    },
    {
      "cell_type": "markdown",
      "metadata": {
        "id": "al3w34XJrpNr"
      },
      "source": [
        "**Exemplo 1**. Conceda um bônus de 20% ao salário dos funcionários\n",
        "com tempo de trabalho igual ou superior a 5 anos e de 10% aos demais.\n",
        "Calcular e exibir o valor do bônus e o valor do salário atualizado.\n"
      ]
    },
    {
      "cell_type": "code",
      "metadata": {
        "id": "rYVdD-OBzucy"
      },
      "source": [
        "salario = float(input(\"Digite o salário: \"))\n",
        "tempo = int(input(\"Digite o tempo de trabalho: \"))\n",
        "\n",
        "if tempo >= 5:\n",
        "    bonus = salario*0.20\n",
        "    \n",
        "else:\n",
        "    bonus = salario*0.10\n",
        "\n",
        "print(\"O valor do bônus é:\",format(bonus,\".2f\"))\n",
        "print(\"O valor do salário atualizado é:\",format(salario + bonus,\".2f\"))\n",
        "\n"
      ],
      "execution_count": null,
      "outputs": []
    },
    {
      "cell_type": "markdown",
      "metadata": {
        "id": "jAZDVAwJr_HW"
      },
      "source": [
        "**Exemplo 2**. Escreva um programa que leia um número inteiro\n",
        "e exiba se ele é um número par ou ímpar.\n",
        "Verificar se o número é par ou ímpar"
      ]
    },
    {
      "cell_type": "code",
      "metadata": {
        "id": "O4N1_Tjrr803"
      },
      "source": [
        "num = int (input(\"Digite um número inteiro: \"))\n",
        "\n",
        "if (num % 2) == 0:\n",
        "    print (\"Número é par\")\n",
        "else:\n",
        "    print (\"Número é ímpar\")"
      ],
      "execution_count": null,
      "outputs": []
    },
    {
      "cell_type": "markdown",
      "metadata": {
        "id": "ELkSh0ersXWp"
      },
      "source": [
        "**Exemplo 3.** Elabore um programa que leia do teclado o sexo de uma pessoa. \n",
        "Se o sexo digitado for \"F\" ou \"f\" ou \"mulher\" ou \"Mulher\", escrever na tela \"Sexo feminino!\"\n",
        "Caso contrário, exibir \"Não é do sexo feminino!\"."
      ]
    },
    {
      "cell_type": "code",
      "metadata": {
        "id": "0SuJ9xDwsLY9"
      },
      "source": [
        "sexo = input(\"Digite o sexo da pessoa: \")\n",
        "\n",
        "if (sexo == \"F\") or (sexo == \"f\") or (sexo == \"mulher\") or (sexo == \"Mulher\"):\n",
        "    print (\"Sexo feminino\")\n",
        "else:\n",
        "    print (\"Não é do sexo feminino\")"
      ],
      "execution_count": null,
      "outputs": []
    },
    {
      "cell_type": "markdown",
      "metadata": {
        "id": "LC-Agt8Bubwy"
      },
      "source": [
        "# Estruturas condicionais encadeadas `if, elif, else`\n"
      ]
    },
    {
      "cell_type": "code",
      "metadata": {
        "id": "j2DG61O6u8NE",
        "colab": {
          "base_uri": "https://localhost:8080/",
          "height": 34
        },
        "outputId": "af0abfda-168c-45d1-a028-0b16aa14f32a"
      },
      "source": [
        "import math\n",
        "\n",
        "tipo_figura = 'circulo' \n",
        "\n",
        "# medidas \n",
        "a = 10 \n",
        "b = 5\n",
        "\n",
        "if tipo_figura == 'retangulo':\n",
        "  print('área do retângulo =', a*b)\n",
        "elif tipo_figura == 'triangulo':\n",
        "  print('área do triângulo =', a*b/2)\n",
        "else:  \n",
        "  print('área do círculo = ',format(math.pi*a**2, '.2f'))"
      ],
      "execution_count": null,
      "outputs": [
        {
          "output_type": "stream",
          "text": [
            "área do círculo =  314.16\n"
          ],
          "name": "stdout"
        }
      ]
    },
    {
      "cell_type": "markdown",
      "metadata": {
        "id": "B9QM3rhd5qyF"
      },
      "source": [
        "# Exercício 1.\n",
        "\n",
        "Faça um programa que leia um número inteiro (e diferente de zero) e mostre\n",
        "uma mensagem indicando se este número é positivo ou negativo.\n"
      ]
    },
    {
      "cell_type": "markdown",
      "metadata": {
        "id": "togBGl4COxeF"
      },
      "source": [
        "# Exercício 2.\n",
        "\n",
        "Faça um programa que apresenta o maior de dois números inteiros (diferentes)\n",
        "lidos do usuário."
      ]
    },
    {
      "cell_type": "markdown",
      "metadata": {
        "id": "43wqX7ZnPIxW"
      },
      "source": [
        "# Exercício 3.\n",
        "\n",
        "Faça um programa que coloque dois nomes em ordem alfabética."
      ]
    },
    {
      "cell_type": "markdown",
      "metadata": {
        "id": "OezHzCOwPyUA"
      },
      "source": [
        "# Exercício 4.\n",
        "\n",
        "Faça um programa que apresente se o número que o usuário digitou é divisível\n",
        "por 3 e por 5 ao mesmo tempo.\n"
      ]
    },
    {
      "cell_type": "markdown",
      "metadata": {
        "id": "XOj0h9g6QEEs"
      },
      "source": [
        "# Exercício 5.\n",
        "\n",
        "Elabore um programa que leia do teclado o sexo de uma pessoa. Se o sexo\n",
        "digitado for \"M\" ou \"m\" ou \"F\" ou \"f\", escrever na tela \"Sexo válido! \". Caso contrário,\n",
        "exibir \"Sexo inválido! \"."
      ]
    }
  ]
}