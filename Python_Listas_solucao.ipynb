{
  "nbformat": 4,
  "nbformat_minor": 0,
  "metadata": {
    "kernelspec": {
      "display_name": "Python 3",
      "language": "python",
      "name": "python3"
    },
    "language_info": {
      "codemirror_mode": {
        "name": "ipython",
        "version": 3
      },
      "file_extension": ".py",
      "mimetype": "text/x-python",
      "name": "python",
      "nbconvert_exporter": "python",
      "pygments_lexer": "ipython3",
      "version": "3.7.6"
    },
    "colab": {
      "name": "Python_Listas_solucao.ipynb",
      "provenance": [],
      "collapsed_sections": []
    }
  },
  "cells": [
    {
      "cell_type": "markdown",
      "metadata": {
        "id": "J0YsSuRJkrSV"
      },
      "source": [
        "<head>\n",
        "  <meta name=\"author\" content=\"Rogério de Oliveira\">\n",
        "  <meta institution=\"author\" content=\"Universidade Presbiteriana Mackenzie\">\n",
        "</head>\n",
        "\n",
        "<img src=\"http://meusite.mackenzie.br/rogerio/mackenzie_logo/UPM.2_horizontal_vermelho.jpg\" width=300, align=\"right\"></a>\n",
        "<!-- <h1 align=left><font size = 6, style=\"color:rgb(200,0,0)\"> optional title </font></h1> -->"
      ]
    },
    {
      "cell_type": "markdown",
      "metadata": {
        "id": "guaxIf-ikrSX"
      },
      "source": [
        "<h1 align=left><font size = 6, style=\"color:rgb(200,0,0)\">A9</font></h1>\n",
        "<hr>"
      ]
    },
    {
      "cell_type": "markdown",
      "metadata": {
        "id": "LC-Agt8Bubwy"
      },
      "source": [
        "# **Listas**\n",
        "\n",
        "## Coleções em Python (arrays)\n",
        "\n",
        "Existem quatro tipos de coleções na linguagem de programação Python:\n",
        "\n",
        "> **Listas** é uma coleção *ordenada* e *mutável*. *Permite membros duplicados*.\n",
        "\n",
        "> **Tuplas** é uma coleção ordenada e imutável. Permite membros duplicados.\n",
        "\n",
        "> **Sets** é uma coleção não ordenada e não indexada. Nenhum membro duplicado.\n",
        "\n",
        "> **Dicionário** é uma coleção não ordenada, mutável e indexada. Nenhum membro duplicado.\n",
        "\n",
        "Ao escolher um tipo de coleção, é útil entender as propriedades desse tipo. Escolher o tipo certo para um determinado conjunto de dados significa representar mais adequadamente suas propriedades e, portanto, criar modelos de tratamenteo mais adequados.\n",
        "\n"
      ]
    },
    {
      "cell_type": "markdown",
      "metadata": {
        "id": "tECT16U2ouVX"
      },
      "source": [
        "# **Lista**\n",
        "\n",
        "Uma lista é uma coleção ordenada e mutável. Em Python, as listas são escritas com colchetes. \n",
        "\n",
        "Nativamente não temos arrays, ou matrizes em Python! Embora possamos empregar, por exemplo, a biblioteca `Numpy` para implementar e operar dados como esses de modo eficiente."
      ]
    },
    {
      "cell_type": "markdown",
      "metadata": {
        "id": "J9tJ2su9ZCj-"
      },
      "source": [
        "# Métodos\n",
        "\n",
        "Os métodos são as operações que podemos fazer com uma lista, e `list()` ou simplesmente `[]` o **método construtor** (que cria uma lista).\n",
        "\n",
        "```\n",
        "mylist.<metodo()>\n",
        "```"
      ]
    },
    {
      "cell_type": "code",
      "metadata": {
        "id": "TLqQVunzY4HQ",
        "colab": {
          "base_uri": "https://localhost:8080/"
        },
        "outputId": "a147eb34-d290-452d-aae2-4a5f0ef972d0"
      },
      "source": [
        "mylist = list()\n",
        "dir(mylist)"
      ],
      "execution_count": null,
      "outputs": [
        {
          "output_type": "execute_result",
          "data": {
            "text/plain": [
              "['__add__',\n",
              " '__class__',\n",
              " '__contains__',\n",
              " '__delattr__',\n",
              " '__delitem__',\n",
              " '__dir__',\n",
              " '__doc__',\n",
              " '__eq__',\n",
              " '__format__',\n",
              " '__ge__',\n",
              " '__getattribute__',\n",
              " '__getitem__',\n",
              " '__gt__',\n",
              " '__hash__',\n",
              " '__iadd__',\n",
              " '__imul__',\n",
              " '__init__',\n",
              " '__init_subclass__',\n",
              " '__iter__',\n",
              " '__le__',\n",
              " '__len__',\n",
              " '__lt__',\n",
              " '__mul__',\n",
              " '__ne__',\n",
              " '__new__',\n",
              " '__reduce__',\n",
              " '__reduce_ex__',\n",
              " '__repr__',\n",
              " '__reversed__',\n",
              " '__rmul__',\n",
              " '__setattr__',\n",
              " '__setitem__',\n",
              " '__sizeof__',\n",
              " '__str__',\n",
              " '__subclasshook__',\n",
              " 'append',\n",
              " 'clear',\n",
              " 'copy',\n",
              " 'count',\n",
              " 'extend',\n",
              " 'index',\n",
              " 'insert',\n",
              " 'pop',\n",
              " 'remove',\n",
              " 'reverse',\n",
              " 'sort']"
            ]
          },
          "metadata": {
            "tags": []
          },
          "execution_count": 1
        }
      ]
    },
    {
      "cell_type": "markdown",
      "metadata": {
        "id": "v-uAE4rJZrdP"
      },
      "source": [
        "# Descrição dos Métodos\n",
        "\n",
        "\n",
        "1. **append()**\tAdds an element at the end of the list\n",
        "2. clear()\tRemoves all the elements from the list\n",
        "3. copy()\tReturns a copy of the list\n",
        "4. **count()**\tReturns the number of elements with the specified value\n",
        "5. extend()\tAdd the elements of a list (or any iterable), to the end of the current list\n",
        "6. **index()**\tReturns the index of the first element with the specified value\n",
        "7. insert()\tAdds an element at the specified position\n",
        "8. pop()\tRemoves the element at the specified position\n",
        "9. **remove()**\tRemoves the item with the specified value\n",
        "10. reverse()\tReverses the order of the list\n",
        "11. **sort()**\tSorts the list\n"
      ]
    },
    {
      "cell_type": "code",
      "metadata": {
        "id": "EkLCApTBouVe",
        "colab": {
          "base_uri": "https://localhost:8080/"
        },
        "outputId": "c00e8dfe-f7c6-478f-8073-e076b086e138"
      },
      "source": [
        "mylist = ['A', 'B', 'C', 'A', 'B']\n",
        "\n",
        "mylist.count('B')\n",
        "\n",
        "mylist.index('B')\n",
        "mylist.index('B', 2)  \n",
        "\n",
        "mylist.append('D')\n",
        "\n",
        "mylist.sort()\n",
        "\n",
        "mylist.pop()\n",
        "\n",
        "mylist.insert(1,'X') \n",
        "\n",
        "del mylist[0:1] # o mesmo que del fruits[0]\n",
        "mylist.remove('B') # somente o primeiro elemento\n",
        "\n",
        "mylist[1] = 'ZZ'\n",
        "\n",
        "mylist = [[1,2,3], [11,22,33], [9,9,9]]\n",
        "print(mylist[1])  # [11,22,33]\n",
        "print(mylist[1][0])  # 11\n",
        "\n",
        "mylist = ['A', 'B', 'C', 'A', 'B']\n",
        "\n",
        "mylist1 = mylist            # NÃO USE\n",
        "mylist2 = mylist.copy()     # USE\n",
        "mylist.remove('B')\n",
        "print(mylist1) # ['A', 'C', 'A', 'B']\n",
        "print(mylist2) # ['A', 'B', 'C', 'A', 'B']\n",
        "\n",
        "print('A' in mylist)"
      ],
      "execution_count": null,
      "outputs": [
        {
          "output_type": "stream",
          "text": [
            "[11, 22, 33]\n",
            "11\n",
            "['A', 'C', 'A', 'B']\n",
            "['A', 'B', 'C', 'A', 'B']\n",
            "True\n"
          ],
          "name": "stdout"
        }
      ]
    },
    {
      "cell_type": "markdown",
      "metadata": {
        "id": "R9UdT_mOa1j7"
      },
      "source": [
        "# Índices"
      ]
    },
    {
      "cell_type": "code",
      "metadata": {
        "id": "M2V5IVYia0O1",
        "colab": {
          "base_uri": "https://localhost:8080/"
        },
        "outputId": "7203d05c-1a0a-4a45-a960-ae98fc806180"
      },
      "source": [
        "thislist = [\"apple\", \"banana\", \"cherry\", \"orange\", \"kiwi\", \"melon\", \"mango\"]\n",
        "\n",
        "print(thislist[2:5])\n",
        "print(thislist[:5])\n",
        "print(thislist[5:])\n",
        "print(thislist[:-1])\n",
        "print(thislist[-1:])\n"
      ],
      "execution_count": null,
      "outputs": [
        {
          "output_type": "stream",
          "text": [
            "['cherry', 'orange', 'kiwi']\n",
            "['apple', 'banana', 'cherry', 'orange', 'kiwi']\n",
            "['melon', 'mango']\n",
            "['apple', 'banana', 'cherry', 'orange', 'kiwi', 'melon']\n",
            "['mango']\n"
          ],
          "name": "stdout"
        }
      ]
    },
    {
      "cell_type": "markdown",
      "metadata": {
        "id": "Zn4bWeeuouVp"
      },
      "source": [
        "# Percorrendo uma lista\n",
        "\n"
      ]
    },
    {
      "cell_type": "code",
      "metadata": {
        "id": "L2nN1HjGouVq"
      },
      "source": [
        "mylist = ['A', 'B', 'C', 'A', 'B']\n",
        " \n",
        "for i in range(len(mylist)):\n",
        "    print(mylist[i])\n",
        "\n",
        "for item in mylist:\n",
        "    print(item) \n",
        "    \n",
        "   "
      ],
      "execution_count": null,
      "outputs": []
    },
    {
      "cell_type": "markdown",
      "metadata": {
        "id": "3XEv7QJdbbnT"
      },
      "source": [
        "# Populando uma Lista"
      ]
    },
    {
      "cell_type": "code",
      "metadata": {
        "id": "Kgv3mylpbe3V",
        "colab": {
          "base_uri": "https://localhost:8080/"
        },
        "outputId": "3babf325-126d-4da4-931d-4d36ec55bfc7"
      },
      "source": [
        "mylist = []\n",
        "\n",
        "while True:\n",
        "  elemento = input('Entre com um elemento ou \\'end\\' para terminar: ')\n",
        "  if elemento == 'end':\n",
        "    break\n",
        "\n",
        "  mylist.append(elemento)\n",
        "\n",
        "print(mylist)    "
      ],
      "execution_count": null,
      "outputs": [
        {
          "output_type": "stream",
          "text": [
            "Entre com um elemento ou 'end' para terminar: Anna\n",
            "Entre com um elemento ou 'end' para terminar: Beatriz\n",
            "Entre com um elemento ou 'end' para terminar: Daniel\n",
            "Entre com um elemento ou 'end' para terminar: Henrique\n",
            "Entre com um elemento ou 'end' para terminar: end\n",
            "['Anna', 'Beatriz', 'Daniel', 'Henrique']\n"
          ],
          "name": "stdout"
        }
      ]
    },
    {
      "cell_type": "markdown",
      "metadata": {
        "id": "UjUrAfaofRF1"
      },
      "source": [
        "# Exercício 1.\n",
        "Faça um programa que leia uma lista de 5 números inteiros e mostre-os.\n",
        "\n",
        "> a. Sem função\n",
        "\n",
        "> b. Com função e variável global\n",
        "\n",
        "> c. Com função, sem variável global (a função retorna uma lista)\n"
      ]
    },
    {
      "cell_type": "code",
      "metadata": {
        "id": "gijN7JrEeClg"
      },
      "source": [
        "num = []\n",
        "\n",
        "print(\"Digite 5 números inteiros:\")\n",
        "\n",
        "for i in range(5):\n",
        "    x = int(input())\n",
        "    num.append(x)\n",
        "\n",
        "print(num)\n"
      ],
      "execution_count": null,
      "outputs": []
    },
    {
      "cell_type": "code",
      "metadata": {
        "id": "XDsLagYAeJoi"
      },
      "source": [
        "num = []\n",
        "\n",
        "def entrada():\n",
        "    print(\"Digite 5 números inteiros:\")\n",
        "    for i in range(5):\n",
        "        x = int(input())\n",
        "        num.append(x)\n",
        "\n",
        "def saida():\n",
        "    print(num)\n",
        "\n",
        "def main():\n",
        "    entrada()\n",
        "    saida()\n",
        "    \n",
        "main()"
      ],
      "execution_count": null,
      "outputs": []
    },
    {
      "cell_type": "code",
      "metadata": {
        "id": "FoHTzJiKeP7T"
      },
      "source": [
        "def entrada():\n",
        "    num = []\n",
        "    print (\"Digite 5 números inteiros:\")\n",
        "    for i in range(5):\n",
        "        x = int(input())\n",
        "        num.append(x)\n",
        "    return num\n",
        "    \n",
        "def saida(vet):\n",
        "    print(vet)\n",
        "\n",
        "def main():\n",
        "    vetor = entrada()\n",
        "    saida(vetor)\n",
        "    \n",
        "main()"
      ],
      "execution_count": null,
      "outputs": []
    },
    {
      "cell_type": "markdown",
      "metadata": {
        "id": "eTVP-uFYc6Hw"
      },
      "source": [
        "# Exercício 2\n",
        "\n",
        "Faça um programa que leia uma lista de 10 números inteiros e mostre-os na ordem inversa da digitação.\n",
        "\n",
        "> a. Sem função\n",
        "\n",
        "> b. Com função e variável global\n",
        "\n",
        "> c. Com função, sem variável global (a função retorna uma lista)\n",
        "\n",
        "\n"
      ]
    },
    {
      "cell_type": "code",
      "metadata": {
        "id": "UqrF7tExeWn6"
      },
      "source": [
        "num = []\n",
        "\n",
        "print(\"Digite 10 números inteiros:\")\n",
        "\n",
        "for i in range(10):\n",
        "    x = int(input())\n",
        "    num.append(x)\n",
        "\n",
        "num.reverse()\n",
        "print(num)"
      ],
      "execution_count": null,
      "outputs": []
    },
    {
      "cell_type": "code",
      "metadata": {
        "id": "BVgG_dOBeb8m"
      },
      "source": [
        "num = []\n",
        "\n",
        "def entrada():\n",
        "    print(\"Digite 10 números inteiros:\")\n",
        "    for i in range(10):\n",
        "        x = int(input())\n",
        "        num.append(x)\n",
        "\n",
        "def saida():\n",
        "    num.reverse()\n",
        "    print(num)\n",
        "\n",
        "def main():\n",
        "    entrada()\n",
        "    saida()\n",
        "    \n",
        "main()\n"
      ],
      "execution_count": null,
      "outputs": []
    },
    {
      "cell_type": "code",
      "metadata": {
        "id": "DaBXSZy7eg5N"
      },
      "source": [
        "def entrada():\n",
        "    num = []\n",
        "    print(\"Digite 10 números inteiros:\")\n",
        "    for i in range(10):\n",
        "        x = int(input())\n",
        "        num.append(x)\n",
        "    return num\n",
        "\n",
        "def saida(vet):\n",
        "    vet.reverse()\n",
        "    print(vet)\n",
        "\n",
        "def main():\n",
        "    vetor = entrada()\n",
        "    saida(vetor)\n",
        "    \n",
        "main()"
      ],
      "execution_count": null,
      "outputs": []
    },
    {
      "cell_type": "markdown",
      "metadata": {
        "id": "LafgBm8NdtUl"
      },
      "source": [
        "# Exercício 3\n",
        "\n",
        "Faça um programa que leia uma lista com 4 notas (entre 0 e 10), mostre as notas e a média na tela.\n",
        "\n",
        "(Você pore implementar apenas uma das alternativas abaixo, mas tenha certeza de saber implementar de todas as formas alternativas)\n",
        "> a. Sem função\n",
        "\n",
        "> b. Com função e variável global\n",
        "\n",
        "> c. Com função, sem variável global (a função retorna uma lista) \n",
        "\n"
      ]
    },
    {
      "cell_type": "code",
      "metadata": {
        "id": "KVZA1iaafKz4"
      },
      "source": [
        "nota = []\n",
        "\n",
        "print(\"Digite 4 notas:\")\n",
        "\n",
        "for i in range(4):\n",
        "    n = float(input())\n",
        "    while n<0 or n>10:\n",
        "        print(\"Nota fora do intervalo, digite novamente\")\n",
        "        n = float(input())            \n",
        "    nota.append(n)\n",
        "\n",
        "media = sum(nota)/len(nota)\n",
        "\n",
        "print(nota)\n",
        "print(\"Média: \" , media)"
      ],
      "execution_count": null,
      "outputs": []
    },
    {
      "cell_type": "code",
      "metadata": {
        "id": "z3prZQTWep43"
      },
      "source": [
        "nota = []\n",
        "\n",
        "print(\"Digite 4 notas:\")\n",
        "\n",
        "for i in range(4):\n",
        "    n = float(input())\n",
        "    while n<0 or n>10:\n",
        "        print(\"Nota fora do intervalo, digite novamente\")\n",
        "        n = float(input())            \n",
        "    nota.append(n)\n",
        "\n",
        "media = sum(nota)/len(nota)\n",
        "\n",
        "print(nota)\n",
        "print(\"Média: \" , media)"
      ],
      "execution_count": null,
      "outputs": []
    },
    {
      "cell_type": "code",
      "metadata": {
        "id": "Z4_pdK9wet7E"
      },
      "source": [
        "def entrada():\n",
        "    nota = []\n",
        "    print(\"Digite 4 notas:\")\n",
        "    for i in range(4):\n",
        "        n = float(input())\n",
        "        while n<0 or n>10:\n",
        "            print(\"Nota fora do intervalo, digite novamente\")\n",
        "            n = float(input())            \n",
        "        nota.append(n)\n",
        "    return nota\n",
        "\n",
        "def media(vet):\n",
        "    return (sum(vet)/len(vet))\n",
        "\n",
        "def saida(vet):\n",
        "    print(vet)\n",
        "    print(\"Média: \" , media(vet))\n",
        "    \n",
        "\n",
        "def main():\n",
        "    vet = entrada()\n",
        "    saida(vet)\n",
        "    \n",
        "main()\n"
      ],
      "execution_count": null,
      "outputs": []
    }
  ]
}