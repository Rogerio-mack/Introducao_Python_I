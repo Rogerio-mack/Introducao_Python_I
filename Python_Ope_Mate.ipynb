{
  "nbformat": 4,
  "nbformat_minor": 0,
  "metadata": {
    "kernelspec": {
      "display_name": "Python 3",
      "language": "python",
      "name": "python3"
    },
    "language_info": {
      "codemirror_mode": {
        "name": "ipython",
        "version": 3
      },
      "file_extension": ".py",
      "mimetype": "text/x-python",
      "name": "python",
      "nbconvert_exporter": "python",
      "pygments_lexer": "ipython3",
      "version": "3.7.4"
    },
    "colab": {
      "name": "Python_Ope_Mate.ipynb",
      "provenance": [],
      "collapsed_sections": []
    }
  },
  "cells": [
    {
      "cell_type": "markdown",
      "metadata": {
        "id": "J0YsSuRJkrSV"
      },
      "source": [
        "<head>\n",
        "  <meta name=\"author\" content=\"Rogério de Oliveira\">\n",
        "  <meta institution=\"author\" content=\"Universidade Presbiteriana Mackenzie\">\n",
        "</head>\n",
        "\n",
        "<img src=\"http://meusite.mackenzie.br/rogerio/mackenzie_logo/UPM.2_horizontal_vermelho.jpg\" width=300, align=\"right\"></a>\n",
        "<!-- <h1 align=left><font size = 6, style=\"color:rgb(200,0,0)\"> optional title </font></h1> -->"
      ]
    },
    {
      "cell_type": "markdown",
      "metadata": {
        "id": "guaxIf-ikrSX"
      },
      "source": [
        "# **Python Operadores e Funções Matemáticas**"
      ]
    },
    {
      "cell_type": "markdown",
      "metadata": {
        "id": "AenzTE16PJkn"
      },
      "source": [
        "# Tipos numéricos\n"
      ]
    },
    {
      "cell_type": "code",
      "metadata": {
        "id": "rYVdD-OBzucy",
        "colab": {
          "base_uri": "https://localhost:8080/",
          "height": 34
        },
        "outputId": "ec0941ef-7a0f-4715-e051-f4fee12ec5aa"
      },
      "source": [
        "a = 123\n",
        "b = 1.23\n",
        "c = 1 + 2j # note, j e não i\n",
        "d = True\n",
        "print(type(a), type(b), type(c), type(d))\n"
      ],
      "execution_count": null,
      "outputs": [
        {
          "output_type": "stream",
          "text": [
            "<class 'int'> <class 'float'> <class 'complex'> <class 'bool'>\n"
          ],
          "name": "stdout"
        }
      ]
    },
    {
      "cell_type": "code",
      "metadata": {
        "id": "-5QPbwk7FSGi",
        "colab": {
          "base_uri": "https://localhost:8080/",
          "height": 51
        },
        "outputId": "f525a918-31b3-4e05-d7ed-e8dedb963c68"
      },
      "source": [
        "if 1:\n",
        "  print('1 é True')\n",
        "\n",
        "if not 0:\n",
        "  print('0 é False')  "
      ],
      "execution_count": null,
      "outputs": [
        {
          "output_type": "stream",
          "text": [
            "1 é True\n",
            "0 é False\n"
          ],
          "name": "stdout"
        }
      ]
    },
    {
      "cell_type": "markdown",
      "metadata": {
        "id": "TpfkK-LHFsrb"
      },
      "source": [
        "# Operações Básicas"
      ]
    },
    {
      "cell_type": "code",
      "metadata": {
        "id": "PbQzEN68EoBv",
        "colab": {
          "base_uri": "https://localhost:8080/",
          "height": 85
        },
        "outputId": "c9dd98fe-913e-4616-ec2b-840a46d4163a"
      },
      "source": [
        "print(3 * 4, 3 + 4, 3 - 4, 3 / 4, 3.14, 4.2e-4 )  \n",
        "\n",
        "print(type(3 * 4), type(3.14), type(4.2e-4) ) \n",
        "\n",
        "print(3 ** 2, 3 // 4, 3 % 4 ) # mod\n",
        "\n",
        "print(4 > 3, 4 >= 3, 3 == 3.0, 3 != 4, 3 <= 4 )\n"
      ],
      "execution_count": null,
      "outputs": [
        {
          "output_type": "stream",
          "text": [
            "12 7 -1 0.75 3.14 0.00042\n",
            "<class 'int'> <class 'float'> <class 'float'>\n",
            "9 0 3\n",
            "True True True True True\n"
          ],
          "name": "stdout"
        }
      ]
    },
    {
      "cell_type": "markdown",
      "metadata": {
        "id": "MVjOzBXzGljL"
      },
      "source": [
        "# Funções Matemáticas\n",
        "\n",
        "Veja as principais funções [aqui](https://docs.python.org/3/library/math.html)."
      ]
    },
    {
      "cell_type": "code",
      "metadata": {
        "id": "SEsCYvEBGp6d",
        "colab": {
          "base_uri": "https://localhost:8080/",
          "height": 51
        },
        "outputId": "a8102036-3567-4b04-9f7f-e25209661d7c"
      },
      "source": [
        "import math               \n",
        "\n",
        "print(math.pi)            # pi \n",
        "print(math.exp(1))        # e"
      ],
      "execution_count": null,
      "outputs": [
        {
          "output_type": "stream",
          "text": [
            "3.141592653589793\n",
            "2.718281828459045\n"
          ],
          "name": "stdout"
        }
      ]
    },
    {
      "cell_type": "markdown",
      "metadata": {
        "id": "Hn-xGy4CHWZ6"
      },
      "source": [
        "# Exercício.\n",
        "\n",
        "Verifique nas funções do pacote `math` o que faz a funções `math.ceil(x)`. Pesquise também qual a função oposta de `math.ceil(x)`. "
      ]
    },
    {
      "cell_type": "markdown",
      "metadata": {
        "id": "gdmUIDmcI1w5"
      },
      "source": [
        "# Exercício.\n",
        "\n",
        "Faça um programa em que você fornece os coeficientes de uma equação do segundo grau e ele retorna a raiz dessa equação (você pode considerar somente os casos em que existe a raiz real e coeficientes inteiros). \n",
        "\n",
        "$$ y = a x^2 + b x + c $$\n",
        "\n",
        "$$ x_0 = \\frac{ - b \\pm \\sqrt{ b^2 - 4ac } }{2a} $$\n"
      ]
    },
    {
      "cell_type": "markdown",
      "metadata": {
        "id": "-Vinoi6tL80r"
      },
      "source": [
        "# Formats\n",
        "\n",
        "Veja mais sobre formatos [aqui](https://pyformat.info/#simple)."
      ]
    },
    {
      "cell_type": "code",
      "metadata": {
        "id": "_1Xf8mzCCl4W",
        "colab": {
          "base_uri": "https://localhost:8080/",
          "height": 119
        },
        "outputId": "1954a1f6-042e-4507-a6c2-0b63e740279d"
      },
      "source": [
        "e = math.exp(1)\n",
        "pi = math.pi\n",
        "\n",
        "print('Este é o número de Euler: ', e)\n",
        "print('Este é o número de Euler:  {:0.2f}'.format(e)) # Prefira este, Python 3\n",
        "print('Este é o número de Euler:  {:0.4f}'.format(e))\n",
        "\n",
        "print ('Este é o número de Euler: ', format(e, '.4f'))\n",
        "print ('Este é o número de Euler: ', '%.4f' %e)\n",
        "\n",
        "print('Este é o número de Euler:  {:0.4f} , e este é o Pi: {:0.4f}'.format(e,pi))"
      ],
      "execution_count": null,
      "outputs": [
        {
          "output_type": "stream",
          "text": [
            "Este é o número de Euler:  2.718281828459045\n",
            "Este é o número de Euler:  2.72\n",
            "Este é o número de Euler:  2.7183\n",
            "Este é o número de Euler:  2.7183\n",
            "Este é o número de Euler:  2.7183\n",
            "Este é o número de Euler:  2.7183 , e este é o Pi: 3.1416\n"
          ],
          "name": "stdout"
        }
      ]
    },
    {
      "cell_type": "markdown",
      "metadata": {
        "id": "B9QM3rhd5qyF"
      },
      "source": [
        "# Exercício 1.\n",
        "\n",
        "Escreva um programa que lê dois valores **inteiros** e exibe os seguintes resultados:\n",
        "\n",
        "* o resultado do primeiro número dividido pelo segundo número\n",
        "* o resultado da divisão truncada do primeiro número pelo segundo número\n"
      ]
    },
    {
      "cell_type": "markdown",
      "metadata": {
        "id": "togBGl4COxeF"
      },
      "source": [
        "# Exercício 2.\n",
        "\n",
        "Escreva um programa que lê dois valores em **ponto flutuante** e exiba os seguintes resultados:\n",
        "\n",
        "* divisão do primeiro valor pelo segundo valor, sem formatação;\n",
        "* divisão do primeiro valor pelo segundo valor, com exatamente seis dígitos depois da vírgula "
      ]
    },
    {
      "cell_type": "markdown",
      "metadata": {
        "id": "43wqX7ZnPIxW"
      },
      "source": [
        "# Exercício 3.\n",
        "\n",
        "Calcule e apresente o volume de uma lata de óleo dados a altura e o diâmetro da lata.\n",
        "\n",
        "Lembre: $V = \\pi  r^2 A $"
      ]
    },
    {
      "cell_type": "markdown",
      "metadata": {
        "id": "OezHzCOwPyUA"
      },
      "source": [
        "# Exercício 4.\n",
        "\n",
        "Escreva um programa que receba três números inteiros quaisquer e apresente:\n",
        "\n",
        "* a soma dos quadrados dos três números;\n",
        "* o quadrado da soma dos três números.\n"
      ]
    }
  ]
}