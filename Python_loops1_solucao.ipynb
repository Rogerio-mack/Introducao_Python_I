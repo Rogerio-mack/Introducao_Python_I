{
  "nbformat": 4,
  "nbformat_minor": 0,
  "metadata": {
    "kernelspec": {
      "display_name": "Python 3",
      "language": "python",
      "name": "python3"
    },
    "language_info": {
      "codemirror_mode": {
        "name": "ipython",
        "version": 3
      },
      "file_extension": ".py",
      "mimetype": "text/x-python",
      "name": "python",
      "nbconvert_exporter": "python",
      "pygments_lexer": "ipython3",
      "version": "3.7.6"
    },
    "colab": {
      "name": "Python_loops1_solucao.ipynb",
      "provenance": [],
      "collapsed_sections": []
    }
  },
  "cells": [
    {
      "cell_type": "markdown",
      "metadata": {
        "id": "J0YsSuRJkrSV"
      },
      "source": [
        "<head>\n",
        "  <meta name=\"author\" content=\"Rogério de Oliveira\">\n",
        "  <meta institution=\"author\" content=\"Universidade Presbiteriana Mackenzie\">\n",
        "</head>\n",
        "\n",
        "<img src=\"http://meusite.mackenzie.br/rogerio/mackenzie_logo/UPM.2_horizontal_vermelho.jpg\" width=300, align=\"right\"></a>\n",
        "<!-- <h1 align=left><font size = 6, style=\"color:rgb(200,0,0)\"> optional title </font></h1> -->"
      ]
    },
    {
      "cell_type": "markdown",
      "metadata": {
        "id": "guaxIf-ikrSX"
      },
      "source": [
        "# **Python Loops: While**\n",
        "---"
      ]
    },
    {
      "cell_type": "markdown",
      "metadata": {
        "id": "LC-Agt8Bubwy"
      },
      "source": [
        "# **While** e **For** Loops\n",
        "\n",
        "Instruções `while` e `for` permitem implementar *laços* de execução nos programas, os chamados *loops* \\*. São blocos de instruções que se repetem até satisfazer alguma condição com chegar a um determinado valor ou índice.\n",
        "\n",
        "Os *loops* são muito úteis para codificar situações repetitivas sem a necessidade de extensas linhas de código que se repetem.\n",
        "\n",
        "\\* *não confunda, às vezes também empregamos o têrmo 'loop' para quando um programa, geralmente por erro, 'não para'.*\n",
        "\n",
        "\n",
        "\n"
      ]
    },
    {
      "cell_type": "markdown",
      "metadata": {
        "id": "plAaHhtWdDt5"
      },
      "source": [
        "# While"
      ]
    },
    {
      "cell_type": "code",
      "metadata": {
        "id": "jeVmlK8Ac-xT",
        "colab": {
          "base_uri": "https://localhost:8080/",
          "height": 108
        },
        "outputId": "df82648b-3aa9-4f55-ae40-41c61adefc98"
      },
      "source": [
        "i = 1\n",
        "while i < 6:\n",
        "  print('Passando aqui...', i , '-ésima vez')\n",
        "  i += 1             # > o mesmo que i = i + 1\n"
      ],
      "execution_count": null,
      "outputs": [
        {
          "output_type": "stream",
          "text": [
            "Passando aqui... 1 -ésima vez\n",
            "Passando aqui... 2 -ésima vez\n",
            "Passando aqui... 3 -ésima vez\n",
            "Passando aqui... 4 -ésima vez\n",
            "Passando aqui... 5 -ésima vez\n"
          ],
          "name": "stdout"
        }
      ]
    },
    {
      "cell_type": "code",
      "metadata": {
        "id": "dQL1nE2VY_0c",
        "colab": {
          "base_uri": "https://localhost:8080/",
          "height": 371
        },
        "outputId": "7c6a8449-f1e7-476e-c157-60aae4c8b6af"
      },
      "source": [
        "from IPython.display import IFrame\n",
        "url = \"https://pythontutor.com/iframe-embed.html#code=i%20%3D%201%0Awhile%20i%20%3C%206%3A%0A%20%20print%28'Passando%20aqui...',%20i%20,%20'-%C3%A9sima%20vez'%29%0A%20%20i%20%2B%3D%201%20%20%20%20%20%20%20%20%20%20%20%20%20%23%20%3E%20o%20mesmo%20que%20i%20%3D%20i%20%2B%201&codeDivHeight=400&codeDivWidth=350&cumulative=false&curInstr=10&heapPrimitives=nevernest&origin=opt-frontend.js&py=3&rawInputLstJSON=%5B%5D&textReferences=false\"\n",
        "IFrame(url, width='1000', height=350)\n",
        "\n"
      ],
      "execution_count": null,
      "outputs": [
        {
          "output_type": "execute_result",
          "data": {
            "text/html": [
              "\n",
              "        <iframe\n",
              "            width=\"1000\"\n",
              "            height=\"350\"\n",
              "            src=\"https://pythontutor.com/iframe-embed.html#code=i%20%3D%201%0Awhile%20i%20%3C%206%3A%0A%20%20print%28'Passando%20aqui...',%20i%20,%20'-%C3%A9sima%20vez'%29%0A%20%20i%20%2B%3D%201%20%20%20%20%20%20%20%20%20%20%20%20%20%23%20%3E%20o%20mesmo%20que%20i%20%3D%20i%20%2B%201&codeDivHeight=400&codeDivWidth=350&cumulative=false&curInstr=10&heapPrimitives=nevernest&origin=opt-frontend.js&py=3&rawInputLstJSON=%5B%5D&textReferences=false\"\n",
              "            frameborder=\"0\"\n",
              "            allowfullscreen\n",
              "        ></iframe>\n",
              "        "
            ],
            "text/plain": [
              "<IPython.lib.display.IFrame at 0x7ff8c4bd77f0>"
            ]
          },
          "metadata": {
            "tags": []
          },
          "execution_count": 2
        }
      ]
    },
    {
      "cell_type": "markdown",
      "metadata": {
        "id": "UjUrAfaofRF1"
      },
      "source": [
        "# For"
      ]
    },
    {
      "cell_type": "code",
      "metadata": {
        "id": "LiHnM4jQdMre",
        "colab": {
          "base_uri": "https://localhost:8080/",
          "height": 90
        },
        "outputId": "84d37df4-81bc-4b13-8698-6f4660aa0034"
      },
      "source": [
        "for i in [0,1,2,3]:\n",
        "  print('Passando aqui...', i , '-ésima vez')"
      ],
      "execution_count": null,
      "outputs": [
        {
          "output_type": "stream",
          "text": [
            "Passando aqui... 0 -ésima vez\n",
            "Passando aqui... 1 -ésima vez\n",
            "Passando aqui... 2 -ésima vez\n",
            "Passando aqui... 3 -ésima vez\n"
          ],
          "name": "stdout"
        }
      ]
    },
    {
      "cell_type": "markdown",
      "metadata": {
        "id": "evT_uEOCfxjT"
      },
      "source": [
        "# Break, Continue e While-Else\n",
        "\n",
        "Verifique se você realmente precisa disso... ;-)\n",
        "\n",
        "Essas instruções, em geral, tornam o seu programa menos estruturado e podem levar a erro, falta de legibilidade etc. Sugiro, então, evitar essas instruções. Mas elas podem ser úteis ao longo da programação para um teste ou uma verificação do programa, sendo depois excluídas na versão final.\n",
        "\n",
        "**Avançado**. Input, Assign, If(-Else) e While(For) são suficientes para realizar qualquer procedimento efetivo (*Turing*) em qualquer linguagem de propósito geral. Chamamos essas linguagens de **Turing Completas**. Note que algumas linguagens como `HTML` ou versões antigas de `SQL-2` não são completas. "
      ]
    },
    {
      "cell_type": "code",
      "metadata": {
        "id": "uappANCIf7KF",
        "colab": {
          "base_uri": "https://localhost:8080/",
          "height": 435
        },
        "outputId": "6406a747-69ed-4c92-d996-e201b70b3f0e"
      },
      "source": [
        "print('\\n Break.......................... \\n')\n",
        "\n",
        "i = 1\n",
        "while i < 6:\n",
        "  print('Passando aqui...', i , '-ésima vez')\n",
        "  if i == 3:\n",
        "    print('E parando aqui...', i , '-ésima passada')\n",
        "    break\n",
        "  i += 1\n",
        "\n",
        "print('\\n Continue....................... \\n')\n",
        "\n",
        "i = 1\n",
        "while i < 6:\n",
        "  print('Passando aqui...', i , '-ésima vez')\n",
        "  if i == 3:\n",
        "    entrada = input('Entre com \\'Yes\\' se quiser continuar: ')\n",
        "    if entrada.lower() == 'yes':\n",
        "      continue                                # CUIDADO!!!!!!!!!!!!!!!!!!!!!!!!!\n",
        "    else:\n",
        "      print('Parando aqui...', i , '-ésima passada')\n",
        "      break\n",
        "  i += 1                                      # NÃO EXECUTADO COM O CONTINUE!\n",
        "\n",
        "print('\\n While Else..................... \\n')\n",
        "\n",
        "i = int(input('Entre com um inteiro positivo: '))\n",
        "while i < 6:\n",
        "  print('Passando aqui...', i , '-ésima vez')\n",
        "  i += 1\n",
        "else:\n",
        "  print(\"Entrada é maior ou igual a 6\")\n",
        "\n",
        "\n",
        "\n"
      ],
      "execution_count": null,
      "outputs": [
        {
          "output_type": "stream",
          "text": [
            "\n",
            " Break.......................... \n",
            "\n",
            "Passando aqui... 1 -ésima vez\n",
            "Passando aqui... 2 -ésima vez\n",
            "Passando aqui... 3 -ésima vez\n",
            "E parando aqui... 3 -ésima passada\n",
            "\n",
            " Continue....................... \n",
            "\n",
            "Passando aqui... 1 -ésima vez\n",
            "Passando aqui... 2 -ésima vez\n",
            "Passando aqui... 3 -ésima vez\n",
            "Entre com 'Yes' se quiser continuar: yes\n",
            "Passando aqui... 3 -ésima vez\n",
            "Entre com 'Yes' se quiser continuar: 5\n",
            "Parando aqui... 3 -ésima passada\n",
            "\n",
            " While Else..................... \n",
            "\n",
            "Entre com um inteiro positivo: 5\n",
            "Passando aqui... 5 -ésima vez\n",
            "Entrada é maior ou igual a 6\n"
          ],
          "name": "stdout"
        }
      ]
    },
    {
      "cell_type": "markdown",
      "metadata": {
        "id": "RhjqdxnZp9Qk"
      },
      "source": [
        "# Um uso bem prático!"
      ]
    },
    {
      "cell_type": "code",
      "metadata": {
        "id": "p4qGyRo2qAyE",
        "colab": {
          "base_uri": "https://localhost:8080/",
          "height": 54
        },
        "outputId": "8e2fe880-2aba-4a40-d656-84f05b56b854"
      },
      "source": [
        "entrada = ''\n",
        "\n",
        "while entrada.lower() != 'sim' and entrada.lower() != 'não':\n",
        "  entrada = input('Você gosta de café? Entre com \\'sim\\' ou \\'não\\' : ')\n",
        "\n",
        "print('Ah! Obrigado! Entendi, você ' + entrada.upper() + ' gosta de café!')\n"
      ],
      "execution_count": null,
      "outputs": [
        {
          "output_type": "stream",
          "text": [
            "Você gosta de café? Entre com 'sim' ou 'não' : sim\n",
            "Ah! Obrigado! Entendi, você SIM gosta de café!\n"
          ],
          "name": "stdout"
        }
      ]
    },
    {
      "cell_type": "markdown",
      "metadata": {
        "id": "B3nrmRUftPR3"
      },
      "source": [
        "# Entenda a diferença dos programas\n",
        "\n",
        "Entenda que a identação dos programas é fundamental. É ela que define o bloco que fará parte do laço de programa."
      ]
    },
    {
      "cell_type": "code",
      "metadata": {
        "id": "jYmgC2qxtMJ2",
        "colab": {
          "base_uri": "https://localhost:8080/",
          "height": 35
        },
        "outputId": "9b711b8a-92b8-49b2-945d-9658b6baea65"
      },
      "source": [
        "n = 10\n",
        "sum = 0\n",
        "current = 1\n",
        "\n",
        "while current <= n:\n",
        "    sum = sum + current\n",
        "    current = current + 1\n",
        "\n",
        "print(sum)"
      ],
      "execution_count": null,
      "outputs": [
        {
          "output_type": "stream",
          "text": [
            "55\n"
          ],
          "name": "stdout"
        }
      ]
    },
    {
      "cell_type": "code",
      "metadata": {
        "id": "YUPxFv8CtUd-",
        "colab": {
          "base_uri": "https://localhost:8080/",
          "height": 199
        },
        "outputId": "56ff3a19-38bb-4f45-e610-d6d8f6b262a5"
      },
      "source": [
        "n = 10\n",
        "sum = 0\n",
        "current = 1\n",
        "\n",
        "while current <= n:\n",
        "    sum = sum + current\n",
        "    current = current + 1\n",
        "\n",
        "    print(sum)"
      ],
      "execution_count": null,
      "outputs": [
        {
          "output_type": "stream",
          "text": [
            "1\n",
            "3\n",
            "6\n",
            "10\n",
            "15\n",
            "21\n",
            "28\n",
            "36\n",
            "45\n",
            "55\n"
          ],
          "name": "stdout"
        }
      ]
    },
    {
      "cell_type": "markdown",
      "metadata": {
        "id": "vwLYYpp1tyIs"
      },
      "source": [
        "# Exercício 1\n",
        "\n",
        "Faça um programa para escrever os 10 primeiros múltiplos de 3."
      ]
    },
    {
      "cell_type": "code",
      "metadata": {
        "id": "aej_h9drt1nV",
        "colab": {
          "base_uri": "https://localhost:8080/",
          "height": 199
        },
        "outputId": "16195c4e-1e03-4fa2-85af-163349113a7d"
      },
      "source": [
        "# Seu  código\n",
        "\n",
        "cont = 0\n",
        "while cont < 10:\n",
        "    x = 3*cont\n",
        "    print (\"3 X %d = %d \" %(cont, x))\n",
        "    cont = cont + 1     #ou cont += 1"
      ],
      "execution_count": null,
      "outputs": [
        {
          "output_type": "stream",
          "text": [
            "3 X 0 = 0 \n",
            "3 X 1 = 3 \n",
            "3 X 2 = 6 \n",
            "3 X 3 = 9 \n",
            "3 X 4 = 12 \n",
            "3 X 5 = 15 \n",
            "3 X 6 = 18 \n",
            "3 X 7 = 21 \n",
            "3 X 8 = 24 \n",
            "3 X 9 = 27 \n"
          ],
          "name": "stdout"
        }
      ]
    },
    {
      "cell_type": "markdown",
      "metadata": {
        "id": "AB2n0J01t9K_"
      },
      "source": [
        "# Exercício 2 RESOLVIDO\n",
        "\n",
        "Faça um programa para exibir o fatorial de um número."
      ]
    },
    {
      "cell_type": "code",
      "metadata": {
        "id": "a10s2eJcuHY-",
        "colab": {
          "base_uri": "https://localhost:8080/",
          "height": 54
        },
        "outputId": "a240444c-1ebd-40ab-e56d-9687f062c4c2"
      },
      "source": [
        "n = int(input('Entre com um inteiro: '))\n",
        "\n",
        "fat = 1\n",
        "\n",
        "while n > 1:\n",
        "  fat = n * fat\n",
        "  n = n - 1\n",
        "\n",
        "print(fat)  \n"
      ],
      "execution_count": null,
      "outputs": [
        {
          "output_type": "stream",
          "text": [
            "Entre com um inteiro: 3\n",
            "6\n"
          ],
          "name": "stdout"
        }
      ]
    },
    {
      "cell_type": "markdown",
      "metadata": {
        "id": "Gv0qJv--vmvD"
      },
      "source": [
        "# Exercício 3\n",
        "\n",
        "Escreva um programa que leia uma sequência de números inteiros e positivos, encontre e imprima o maior e o menor número. A entrada de um número negativo indica que a sequência terminou."
      ]
    },
    {
      "cell_type": "code",
      "metadata": {
        "id": "tyAVOLxwv8wQ",
        "colab": {
          "base_uri": "https://localhost:8080/",
          "height": 163
        },
        "outputId": "d7101825-4757-4df3-9bcb-7d4ae4f5c54a"
      },
      "source": [
        "# Seu código\n",
        "\n",
        "print (\"Digite os números inteiros e positivos (número negativo encerra) :\")\n",
        "n = int (input(\"n = \"))\n",
        "\n",
        "maior = n\n",
        "menor = n\n",
        "\n",
        "while True:\n",
        "    n = int (input(\"n = \"))\n",
        "    \n",
        "    if n < 0:\n",
        "        break\n",
        "    if n > maior:\n",
        "        maior = n\n",
        "    if n < menor:\n",
        "        menor = n\n",
        "\n",
        "print (\"\\nMaior = \", maior)\n",
        "print (\"Menor = \", menor)"
      ],
      "execution_count": null,
      "outputs": [
        {
          "output_type": "stream",
          "text": [
            "Digite os números inteiros e positivos (número negativo encerra) :\n",
            "n = 4\n",
            "n = 2\n",
            "n = 9\n",
            "n = -1\n",
            "\n",
            "Maior =  9\n",
            "Menor =  2\n"
          ],
          "name": "stdout"
        }
      ]
    }
  ]
}